{
 "cells": [
  {
   "cell_type": "code",
   "execution_count": 21,
   "metadata": {},
   "outputs": [],
   "source": [
    "import numpy as np\n",
    "import scipy\n",
    "import matplotlib.pyplot as plt\n",
    "import math\n",
    "import sys"
   ]
  },
  {
   "cell_type": "code",
   "execution_count": 52,
   "metadata": {},
   "outputs": [
    {
     "data": {
      "text/plain": [
       "[<matplotlib.lines.Line2D at 0xbbb9b0>]"
      ]
     },
     "execution_count": 52,
     "metadata": {},
     "output_type": "execute_result"
    },
    {
     "data": {
      "image/png": "[encoded data removed]",
      "text/plain": [
       "<Figure size 432x288 with 1 Axes>"
      ]
     },
     "metadata": {
      "needs_background": "light"
     },
     "output_type": "display_data"
    }
   ],
   "source": [
    "np.random.seed(2)\n",
    "n_samples = 60\n",
    "outliers_ratio = 0.2\n",
    "n_inputs = 1\n",
    "n_outputs = 1\n",
    "x = 10*np.random.random((n_samples,n_inputs) )\n",
    "fit = np.random.normal(n_samples,n_inputs)\n",
    "y = np.dot(x,fit)\n",
    "x_noise = x + np.random.normal(size=x.shape)\n",
    "y_noise = y + np.random.normal(size=y.shape)\n",
    "n_outliers = int(outliers_ratio*n_samples)\n",
    "indices = np.arange(x_noise.shape[0])\n",
    "\n",
    "np.random.shuffle(indices)\n",
    "outlier_indices = indices[0:n_outliers]\n",
    "\n",
    "x_noise[outlier_indices] =10* np.random.random(size=(n_outliers,n_inputs))\n",
    "y_noise[outlier_indices] = y_noise[outlier_indices] +  10*np.random.normal(size=(n_outliers,n_outputs))\n",
    "plt.plot(x_noise,y_noise,marker='o', color='#0000cc', linestyle='None', alpha=0.7)"
   ]
  },
  {
   "cell_type": "code",
   "execution_count": 53,
   "metadata": {},
   "outputs": [],
   "source": [
    "def calc_model(points):\n",
    "    k = (points[0][1] - points[1][1])/(points[0][0]-points[1][0]+ sys.float_info.epsilon)\n",
    "    b = points[1][1]-k*points[1][0]\n",
    "    return k, b"
   ]
  },
  {
   "cell_type": "code",
   "execution_count": 54,
   "metadata": {},
   "outputs": [],
   "source": [
    "def intercept_dist(x0,y0,k,b,points):\n",
    "    x = (x0+k*y0-k*b)/(1+k**2)\n",
    "    y = (k*x0 + (k**2)*y0 - (k**2)*b)/(1 + k**2) + b\n",
    "    f = (points[1][0]-points[0][0])*(y-points[0][1])-(points[1][1]-points[0][1])*(x-points[0][0])+ sys.float_info.epsilon\n",
    "    f1 = np.divide(f,abs(f))    \n",
    "    dist = np.sqrt((x-x0)**2+(y-y0)**2)\n",
    "    dist_sgn = dist*f1\n",
    "    #print(type(dist_sgn))\n",
    "    return dist_sgn"
   ]
  },
  {
   "cell_type": "code",
   "execution_count": 55,
   "metadata": {},
   "outputs": [],
   "source": [
    "def ransac_plot(x,y,k,b,thresh,perfectx,perfecty):\n",
    "    plt.figure(\"Ransac\", figsize=(5., 5.))\n",
    "    plt.plot(x,y,marker='o', color='#0000cc', linestyle='None', alpha=0.5)\n",
    "    #print(k*x+b) \n",
    "    plt.plot(x, k*x+b,color='#00cc00', linewidth=2)\n",
    "    bias = thresh/(np.arctan(1/(k+sys.float_info.epsilon)))\n",
    "    #print(bias)\n",
    "    plt.plot(x, k*x+(b-bias),color='#ffff00', linewidth=0.5)\n",
    "    plt.plot(x, k*x+(b+bias),color='#ffff00', linewidth=0.5)\n",
    "    plt.plot(perfectx, perfecty,color='#ff00ff', linewidth=2)\n",
    "    \n",
    "    plt.show()"
   ]
  },
  {
   "cell_type": "code",
   "execution_count": 56,
   "metadata": {
    "scrolled": true
   },
   "outputs": [
    {
     "name": "stdout",
     "output_type": "stream",
     "text": [
      "found better  14 75.63970189482262 -163.51138885155598 at  0  iteration\n",
      "found better  22 47.94063893141272 62.440986431266595 at  11  iteration\n",
      "found better  24 60.596821934686936 -23.17025914021019 at  18  iteration\n",
      "found better  25 46.75297488994499 51.73344131600312 at  35  iteration\n",
      "found better  27 61.73187486649571 1.5805875629798152 at  49  iteration\n",
      "Best model: k =  61.73187486649571  b =  1.5805875629798152 close pts:  27\n"
     ]
    },
    {
     "data": {
      "image/png": "[encoded data removed]",
      "text/plain": [
       "<Figure size 360x360 with 1 Axes>"
      ]
     },
     "metadata": {
      "needs_background": "light"
     },
     "output_type": "display_data"
    }
   ],
   "source": [
    "np.random.seed(2)\n",
    "data = np.hstack( (x_noise,y_noise) )\n",
    "k_iterations =70\n",
    "n_inliners = 2\n",
    "t_thresh =0.75\n",
    "d_close_pts = int(x_noise.shape[0]*0.01)\n",
    "iterations = 0\n",
    "model_k = 0\n",
    "model_b = 0\n",
    "k = 0\n",
    "b = 0\n",
    "for iteration in range(k_iterations):\n",
    "    #print('iteration',i)\n",
    "    add_inliers_l = list()\n",
    "    add_inliers_r = list()\n",
    "    add_inliers = list()\n",
    "    all_indices = np.arange(x_noise.shape[0])\n",
    "    np.random.shuffle(all_indices)\n",
    "    indices_1 = all_indices[:n_inliners]\n",
    "    indices_2 = all_indices[n_inliners:]\n",
    "    maybeInLiers = data[indices_1,:]\n",
    "    otherPoints = data[indices_2,:]\n",
    "    k, b = calc_model(maybeInLiers)\n",
    "    dist = intercept_dist(otherPoints[:,0],otherPoints[:,1],k,b,maybeInLiers)\n",
    "    for i in dist:\n",
    "        if abs(i) < t_thresh:\n",
    "            add_inliers.append(otherPoints[np.where(dist == i)[0][0]])\n",
    "            if i<0:\n",
    "                add_inliers_l.append(otherPoints[np.where(dist == i)[0][0]])\n",
    "            elif i>0:\n",
    "                add_inliers_r.append(otherPoints[np.where(dist == i)[0][0]])\n",
    "    if len(add_inliers)>d_close_pts:\n",
    "        if len(add_inliers_l)/len(add_inliers)>0.3 and len(add_inliers_l)/len(add_inliers)<0.7:\n",
    "            d_close_pts = len(add_inliers)\n",
    "            model_k = k\n",
    "            model_b = b\n",
    "            print('found better ', d_close_pts, model_k, model_b, 'at ',iteration, ' iteration')\n",
    "    #ransac_plot(x_noise,y_noise,k,b,t_thresh)  \n",
    "print( 'Best model: k = ',model_k,' b = ',model_b, 'close pts: ',d_close_pts)\n",
    "ransac_plot(x_noise,y_noise,model_k,model_b,t_thresh,x,y) \n",
    "    "
   ]
  },
  {
   "cell_type": "code",
   "execution_count": null,
   "metadata": {},
   "outputs": [],
   "source": []
  },
  {
   "cell_type": "code",
   "execution_count": null,
   "metadata": {},
   "outputs": [],
   "source": []
  },
  {
   "cell_type": "code",
   "execution_count": null,
   "metadata": {},
   "outputs": [],
   "source": []
  }
 ],
 "metadata": {
  "kernelspec": {
   "display_name": "Python 3",
   "language": "python",
   "name": "python3"
  },
  "language_info": {
   "codemirror_mode": {
    "name": "ipython",
    "version": 3
   },
   "file_extension": ".py",
   "mimetype": "text/x-python",
   "name": "python",
   "nbconvert_exporter": "python",
   "pygments_lexer": "ipython3",
   "version": "3.8.3"
  }
 },
 "nbformat": 4,
 "nbformat_minor": 4
}
