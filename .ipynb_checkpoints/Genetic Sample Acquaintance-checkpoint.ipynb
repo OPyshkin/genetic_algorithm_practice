{
 "cells": [
  {
   "cell_type": "markdown",
   "metadata": {},
   "source": [
    "# Libraries\n"
   ]
  },
  {
   "cell_type": "code",
   "execution_count": 36,
   "metadata": {},
   "outputs": [],
   "source": [
    "import numpy as np\n",
    "import cv2\n",
    "import matplotlib.pyplot as plt"
   ]
  },
  {
   "cell_type": "markdown",
   "metadata": {},
   "source": [
    "# Filter image"
   ]
  },
  {
   "cell_type": "code",
   "execution_count": 37,
   "metadata": {},
   "outputs": [],
   "source": [
    "def filter_image(img):\n",
    "    gray = cv2.cvtColor(img, cv2.COLOR_BGR2GRAY) \n",
    "    blurred = cv2.bilateralFilter(gray,6,75,75)\n",
    "    edges = cv2.Canny(blurred,0,80)\n",
    "    edges = cv2.cvtColor(edges, cv2.COLOR_GRAY2BGR) \n",
    "    return edges"
   ]
  },
  {
   "cell_type": "code",
   "execution_count": 38,
   "metadata": {},
   "outputs": [],
   "source": [
    "class rectangle:\n",
    "    def __init__(self, x, y, w, h, theta):\n",
    "        thresh = 5\n",
    "        self.x = x\n",
    "        self.y = y\n",
    "        self.w = w\n",
    "        self.h = h\n",
    "        self.theta = theta\n",
    "        s = np.sin(theta)\n",
    "        c = np.cos(theta)\n",
    "        centerx = x + w/2\n",
    "        centery = y + h/2\n",
    "        self.x1 = x\n",
    "        self.y1 = y+h\n",
    "        self.x2 = x+w\n",
    "        self.y2 = y+h \n",
    "        self.x3 = x+w\n",
    "        self.y3 = y\n",
    "        x0r = centerx + (self.x - centerx)*c - (self.y - centery)*s\n",
    "        y0r = centery + (self.y - centery)*c + (self.x - centerx)*s\n",
    "        x1r = centerx + (self.x1 - centerx)*c - (self.y1 - centery)*s\n",
    "        y1r = centery + (self.y1 - centery)*c + (self.x1 - centerx)*s\n",
    "        x2r = centerx + (self.x2 - centerx)*c - (self.y2 - centery)*s\n",
    "        y2r = centery + (self.y2 - centery)*c + (self.x2 - centerx)*s\n",
    "        x3r = centerx + (self.x3 - centerx)*c - (self.y3 - centery)*s\n",
    "        y3r = centery + (self.y3 - centery)*c + (self.x3 - centerx)*s\n",
    "        self.pts = np.array([[x0r,y0r],[x1r,y1r],[x2r,y2r],[x3r,y3r]], np.int32)\n",
    "        \n",
    "        # Outer threshold rectangle\n",
    "\n",
    "        out_x0 = self.x - thresh \n",
    "        out_y0 = self.y - thresh\n",
    "        out_x1 = self.x1 - thresh\n",
    "        out_y1 = self.y1 + thresh\n",
    "        out_x2 = self.x2 + thresh\n",
    "        out_y2 = self.y2 + thresh\n",
    "        out_x3 = self.x3 + thresh\n",
    "        out_y3 = self.y3 - thresh\n",
    "\n",
    "        x0r = centerx + (out_x0 - centerx)*c - (out_y0 - centery)*s\n",
    "        y0r = centery + (out_y0 - centery)*c + (out_x0 - centerx)*s\n",
    "        x1r = centerx + (out_x1 - centerx)*c - (out_y1 - centery)*s\n",
    "        y1r = centery + (out_y1 - centery)*c + (out_x1 - centerx)*s\n",
    "        x2r = centerx + (out_x2 - centerx)*c - (out_y2 - centery)*s\n",
    "        y2r = centery + (out_y2 - centery)*c + (out_x2 - centerx)*s\n",
    "        x3r = centerx + (out_x3 - centerx)*c - (out_y3 - centery)*s\n",
    "        y3r = centery + (out_y3 - centery)*c + (out_x3 - centerx)*s\n",
    "        self.pts_outer = np.array([[x0r,y0r],[x1r,y1r],[x2r,y2r],[x3r,y3r]], np.int32)\n",
    "\n",
    "        # Inner threshold rectangle\n",
    "\n",
    "        int_x0 = self.x + thresh\n",
    "        int_y0 = self.y + thresh\n",
    "        int_x1 = self.x1 + thresh\n",
    "        int_y1 = self.y1 - thresh\n",
    "        int_x2 = self.x2 - thresh\n",
    "        int_y2 = self.y2 - thresh\n",
    "        int_x3 = self.x3 - thresh\n",
    "        int_y3 = self.y3 + thresh\n",
    "\n",
    "        x0r = centerx + (int_x0 - centerx)*c - (int_y0 - centery)*s\n",
    "        y0r = centery + (int_y0 - centery)*c + (int_x0 - centerx)*s\n",
    "        x1r = centerx + (int_x1 - centerx)*c - (int_y1 - centery)*s\n",
    "        y1r = centery + (int_y1 - centery)*c + (int_x1 - centerx)*s\n",
    "        x2r = centerx + (int_x2 - centerx)*c - (int_y2 - centery)*s\n",
    "        y2r = centery + (int_y2 - centery)*c + (int_x2 - centerx)*s\n",
    "        x3r = centerx + (int_x3 - centerx)*c - (int_y3 - centery)*s\n",
    "        y3r = centery + (int_y3 - centery)*c + (int_x3 - centerx)*s\n",
    "        self.pts_inner = np.array([[x0r,y0r],[x1r,y1r],[x2r,y2r],[x3r,y3r]], np.int32)\n",
    "\n",
    "    def find_pxls_thresh(self, image):  \n",
    "        mask_img = np.zeros(image.shape[:2], np.uint8)\n",
    "        cv2.fillPoly(mask_img, pts = [self.pts_outer], color=(255,255,255))\n",
    "        cv2.fillPoly(mask_img, pts = [self.pts_inner], color=(0,0,0))\n",
    "        masked = cv2.bitwise_and(image, image, mask=mask_img)\n",
    "        self.num_whites = masked[masked==(255,255,255)].size\n",
    "        print(self.num_whites)\n",
    "        return masked"
   ]
  },
  {
   "cell_type": "code",
   "execution_count": 39,
   "metadata": {},
   "outputs": [],
   "source": [
    "class GA:\n",
    "    def __init__(self):\n",
    "        self.population=[]\n",
    "        \n",
    "    def init_popultation(self, size, img_dims):\n",
    "        self.population=[]\n",
    "        for _ in range(size):\n",
    "            rand_x = np.random.randint(0, img_dims[0],1)\n",
    "            rand_y = np.random.randint(0, img_dims[1],1)\n",
    "            rand_w = np.random.randint(10, img_dims[0]*0.8,1)\n",
    "            rand_h = np.random.randint(10, img_dims[1]*0.8,1)\n",
    "            rand_theta = np.random.uniform(0, 2*np.pi)\n",
    "            self.population.append(rectangle(rand_x,rand_y,rand_w,rand_h,rand_theta))\n",
    "            "
   ]
  },
  {
   "cell_type": "code",
   "execution_count": 40,
   "metadata": {},
   "outputs": [
    {
     "name": "stdout",
     "output_type": "stream",
     "text": [
      "0\n",
      "165\n",
      "252\n",
      "0\n",
      "252\n",
      "480\n",
      "189\n",
      "0\n",
      "237\n",
      "174\n"
     ]
    }
   ],
   "source": [
    "#np.random.seed(1)\n",
    "file = cv2.imread('Test/box1.jpg')\n",
    "scale_percent = 30 # percent of original size\n",
    "width = int(file.shape[1] * scale_percent / 100)\n",
    "height = int(file.shape[0] * scale_percent / 100)\n",
    "dim = (width, height)\n",
    "resized = cv2.resize(file, dim)\n",
    "edges = filter_image(resized)\n",
    "edges_cpy = edges.copy()\n",
    "population_len = 10\n",
    "algorithm = GA()\n",
    "\n",
    "#rect = rectangle(200, 200,100,100,np.pi/2)\n",
    "algorithm.init_popultation(population_len,resized.shape )\n",
    "for i in range(population_len):\n",
    "    cv2.polylines(edges_cpy,[algorithm.population[i].pts],True,(0,255,255))\n",
    "    cv2.polylines(edges_cpy,[algorithm.population[i].pts_outer],True,(0,0,255))\n",
    "    cv2.polylines(edges_cpy,[algorithm.population[i].pts_inner],True,(255,0,0))\n",
    "    pts = algorithm.population[i].find_pxls_thresh(edges)\n",
    "    cv2.imshow('cropeed', pts)\n",
    "    cv2.waitKey()\n",
    "#cv2.polylines(resized,[rect.pts],True,(0,255,255))\n",
    "cv2.imshow('edges', edges_cpy)\n",
    "\n",
    "cv2.waitKey()\n",
    "cv2.destroyAllWindows()"
   ]
  },
  {
   "cell_type": "code",
   "execution_count": null,
   "metadata": {},
   "outputs": [],
   "source": []
  },
  {
   "cell_type": "code",
   "execution_count": null,
   "metadata": {},
   "outputs": [],
   "source": []
  }
 ],
 "metadata": {
  "kernelspec": {
   "display_name": "Python 3",
   "language": "python",
   "name": "python3"
  },
  "language_info": {
   "codemirror_mode": {
    "name": "ipython",
    "version": 3
   },
   "file_extension": ".py",
   "mimetype": "text/x-python",
   "name": "python",
   "nbconvert_exporter": "python",
   "pygments_lexer": "ipython3",
   "version": "3.8.3"
  }
 },
 "nbformat": 4,
 "nbformat_minor": 4
}
