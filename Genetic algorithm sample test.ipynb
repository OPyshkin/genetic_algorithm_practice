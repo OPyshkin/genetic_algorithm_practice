{
 "cells": [
  {
   "cell_type": "code",
   "execution_count": 346,
   "metadata": {},
   "outputs": [],
   "source": [
    "import numpy as np\n",
    "import matplotlib.pyplot as plt\n",
    "from numpy.random import default_rng"
   ]
  },
  {
   "cell_type": "code",
   "execution_count": 347,
   "metadata": {},
   "outputs": [],
   "source": [
    "def calc_model(population):\n",
    "    F_obj = np.array(population[:,0]+population[:,1]*2+population[:,2]*3+population[:,3]*4).reshape(population.shape[0],1)\n",
    "    return F_obj"
   ]
  },
  {
   "cell_type": "code",
   "execution_count": 348,
   "metadata": {},
   "outputs": [],
   "source": [
    "def init_genes(M):\n",
    "    # Randomly init M genes\n",
    "    population = np.random.randint(0,30,[M,4])\n",
    "    return population\n",
    "    "
   ]
  },
  {
   "cell_type": "code",
   "execution_count": 349,
   "metadata": {},
   "outputs": [],
   "source": [
    "def selection(population, F_obj, crossover_rate):\n",
    "    # Casino\n",
    "    fitness = np.array(1/(1+F_obj)).reshape(F_obj.shape[0],1)\n",
    "    total = np.sum(fitness)\n",
    "    P = np.array(fitness/total).reshape(fitness.shape[0],1)\n",
    "    #print('Probabilities', P)\n",
    "    C = np.cumsum(P)\n",
    "    C = np.insert(C, 0, 0).reshape(P.shape[0]+1,1)\n",
    "    #print('Cumsum' , C)\n",
    "    R = np.random.random(P.shape)\n",
    "    #print('Random', R)\n",
    "    sorted_population = np.zeros([population.shape[0],4])\n",
    "    for i in range(R.shape[0]):\n",
    "        for j in range(0, C.shape[0]):\n",
    "            #print(j)\n",
    "            if R[i]<C[j+1] and R[i]>=C[j]:\n",
    "                sorted_population[i] = population[j]\n",
    "                #print(f'Gene {j} is now at {i}' )\n",
    "                break\n",
    "    R_crossover = np.random.random(P.shape)\n",
    "    parents_indices = []\n",
    "    #print ('Crossover chance', R_crossover)\n",
    "    for i in range(sorted_population.shape[0]):\n",
    "        if R_crossover[i] < crossover_rate:\n",
    "            parents_indices.append(i)\n",
    "    #print('Sorted ',sorted_population)\n",
    "    #print('parents ', parents_indices)\n",
    "    R_exchange_pos = np.random.randint(0,4,[len(parents_indices),1])\n",
    "    if len(parents_indices) == 0:\n",
    "        pass\n",
    "        #print('no parents selected')\n",
    "    elif len(parents_indices) == 1:\n",
    "        pass\n",
    "        #print('one parent selected')\n",
    "    else:\n",
    "        for j in range(len(parents_indices)):\n",
    "            if j==(len(parents_indices)-1):\n",
    "                #print ('exchanging ',sorted_population[-1], 'with', sorted_population[0], 'at', R_exchange_pos[-1])\n",
    "                sorted_population[-1][R_exchange_pos[-1]] = sorted_population[0][R_exchange_pos[-1]]\n",
    "                #print('results in', sorted_population[-1])\n",
    "                \n",
    "            else:\n",
    "                #print ('exchanging ',sorted_population[parents_indices[j]], 'with', sorted_population[parents_indices[j+1]], 'at', R_exchange_pos[j])\n",
    "                sorted_population[parents_indices[j]][R_exchange_pos[j]] = sorted_population[parents_indices[j+1]][R_exchange_pos[j]]\n",
    "                #print('results in', sorted_population[parents_indices[j]])\n",
    "    return sorted_population"
   ]
  },
  {
   "cell_type": "code",
   "execution_count": 350,
   "metadata": {},
   "outputs": [],
   "source": [
    "def mutation(population, mutation_rate):\n",
    "    rng = default_rng()\n",
    "    total_gen = population.size\n",
    "    mutation_chance = round(mutation_rate*total_gen)\n",
    "    R_mutate_indices = rng.choice(population.size, size=mutation_chance, replace=False)\n",
    "    #print(R_mutate_indices)\n",
    "    #R_mutate_indices = np.random.randint(0,population.size,[mutation_chance,1])\n",
    "    #R_mutate_val = np.random.randint(0,30,[mutation_chance,1])\n",
    "    for i in R_mutate_indices:\n",
    "        population[int(i/4)][i%4] = np.random.randint(0,30,1)\n",
    "        #print(population[int(i/4)][i%4])\n",
    "    #print(population)\n",
    "    return population"
   ]
  },
  {
   "cell_type": "code",
   "execution_count": 352,
   "metadata": {},
   "outputs": [
    {
     "name": "stdout",
     "output_type": "stream",
     "text": [
      "Initial population \n",
      "  [[ 4 28 18 22]\n",
      " [15 20 22 18]\n",
      " [23  3 24 20]\n",
      " [ 5  2 18 28]\n",
      " [28  6 24  1]\n",
      " [10  4 27 15]]\n",
      "found at  88 [[3. 9. 2. 1.]]\n",
      "eval =  [[30.]]\n"
     ]
    }
   ],
   "source": [
    "#np.random.seed(2)\n",
    "genes = init_genes(6)\n",
    "print('Initial population \\n ', genes)\n",
    "for _ in range(200):\n",
    "    evaluate = calc_model(genes)\n",
    "    #print('Evaluate', evaluate)\n",
    "    P = selection(genes, evaluate, 0.25)\n",
    "    #print('Population',P)\n",
    "    genes = mutation(P, 0.1)\n",
    "    if 30 in evaluate:\n",
    "        print('found at ', _ , genes[np.where(evaluate[:]==30)[0]])\n",
    "        print('eval = ', evaluate[np.where(evaluate[:]==30)[0]])\n",
    "        break\n"
   ]
  },
  {
   "cell_type": "code",
   "execution_count": null,
   "metadata": {},
   "outputs": [],
   "source": []
  }
 ],
 "metadata": {
  "kernelspec": {
   "display_name": "Python 3",
   "language": "python",
   "name": "python3"
  },
  "language_info": {
   "codemirror_mode": {
    "name": "ipython",
    "version": 3
   },
   "file_extension": ".py",
   "mimetype": "text/x-python",
   "name": "python",
   "nbconvert_exporter": "python",
   "pygments_lexer": "ipython3",
   "version": "3.8.3"
  }
 },
 "nbformat": 4,
 "nbformat_minor": 4
}
