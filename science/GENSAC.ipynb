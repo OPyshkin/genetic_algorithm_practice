{
 "cells": [
  {
   "cell_type": "code",
   "execution_count": 1,
   "metadata": {},
   "outputs": [],
   "source": [
    "import open3d as o3d\n",
    "import numpy as np\n",
    "from numpy.random import default_rng\n",
    "from matplotlib import pyplot as plt\n",
    "import os\n",
    "import cv2\n",
    "import random\n",
    "import sys\n",
    "import math\n",
    "import random\n",
    "from time import sleep\n",
    "import matplotlib.pyplot as plt\n",
    "import copy\n",
    "# monkey patches visualization and provides helpers to load geometries\n",
    "#sys.path.append('..')\n",
    "#import open3d_tutorial as o3dtut\n",
    "# change to True if you want to interact with the visualization windows\n",
    "#o3dtut.interactive = not \"CI\" in os.environ"
   ]
  },
  {
   "cell_type": "markdown",
   "metadata": {},
   "source": [
    "# RANSAC experiment"
   ]
  },
  {
   "cell_type": "markdown",
   "metadata": {},
   "source": [
    "## Utilities"
   ]
  },
  {
   "cell_type": "code",
   "execution_count": 2,
   "metadata": {},
   "outputs": [],
   "source": [
    "def find_hull(points):\n",
    "    \n",
    "    inliers_pcd = o3d.geometry.PointCloud()\n",
    "    inliers_pcd.points = o3d.utility.Vector3dVector(points)\n",
    "    #print(type(inliers_pcd))\n",
    "    hull, _ = inliers_pcd.compute_convex_hull()\n",
    "    hull_ls = o3d.geometry.LineSet.create_from_triangle_mesh(hull)\n",
    "    color = np.random.rand(3).tolist()\n",
    "    hull_ls.paint_uniform_color(color)\n",
    "    return hull_ls\n"
   ]
  },
  {
   "cell_type": "code",
   "execution_count": 3,
   "metadata": {},
   "outputs": [],
   "source": [
    "def color_pts(points):\n",
    "    inliers_pcd = o3d.geometry.PointCloud()\n",
    "    inliers_pcd.points = o3d.utility.Vector3dVector(points)\n",
    "    color = np.random.rand(3)\n",
    "    #color = np.array([0,0,0])\n",
    "    point_colors = np.tile(color, (points.shape[0],1))\n",
    "    inliers_pcd.colors = o3d.utility.Vector3dVector(point_colors)\n",
    "    return inliers_pcd"
   ]
  },
  {
   "cell_type": "markdown",
   "metadata": {},
   "source": [
    "## Find plane"
   ]
  },
  {
   "cell_type": "code",
   "execution_count": 4,
   "metadata": {},
   "outputs": [],
   "source": [
    "class plane:\n",
    "    def __init__(self, M0, M1, M2):\n",
    "        A0 = np.linalg.det(np.array([[M1[1]-M0[1],M2[1]-M0[1]],[M1[2]-M0[2],M2[2]-M0[2]]]))\n",
    "        A1 = np.linalg.det(np.array([[M1[0]-M0[0],M2[0]-M0[0]],[M1[2]-M0[2],M2[2]-M0[2]]]))\n",
    "        A2 = np.linalg.det(np.array([[M1[0]-M0[0],M2[0]-M0[0]],[M1[1]-M0[1],M2[1]-M0[1]]]))\n",
    "        self.A = A0\n",
    "        self.B = -A1\n",
    "        self.C = A2\n",
    "        self.D = -M0[0]*A0+M0[1]*A1-M0[2]*A2\n",
    "    def calc_dist(self, pcd):\n",
    "        R = np.absolute(self.A*pcd[:,0]+self.B*pcd[:,1]+self.C*pcd[:,2]+self.D)/(np.sqrt(self.A**2+self.B**2+self.C**2)+ sys.float_info.epsilon)\n",
    "        #print(type(R))\n",
    "        return R"
   ]
  },
  {
   "cell_type": "code",
   "execution_count": 5,
   "metadata": {},
   "outputs": [],
   "source": [
    "def find_pts_plane(pcd):\n",
    "    indexA = np.random.randint(0,pcd.shape[0])\n",
    "    A = pcd[indexA]\n",
    "    #print(A)\n",
    "    distancesA = np.sqrt((pcd[:,0] - A[0])**2+(pcd[:,1] - A[1])**2+ (pcd[:,2] - A[2])**2)\n",
    "    \n",
    "    #Calculating B probabilities\n",
    "    roundedA = np.around(distancesA,1)\n",
    "    uniqueB, countsB = np.unique(roundedA, return_counts = True)\n",
    "    probabilitiesB =1 - countsB/distancesA.shape[0]\n",
    "    probabilitiesB /= probabilitiesB.sum()\n",
    "    #plt.plot(uniqueB, probabilitiesB)\n",
    "    #plt.show()\n",
    "    choose_thresholded_value_B = np.random.choice(uniqueB, p=probabilitiesB)\n",
    "    B_candidate_indices = np.argwhere(roundedA==choose_thresholded_value_B)\n",
    "    B_candidate_indices = B_candidate_indices.reshape(B_candidate_indices.shape[0])\n",
    "    indexB = np.random.choice(B_candidate_indices)\n",
    "    B = pcd[indexB]\n",
    "    #print(B)\n",
    "    #print(np.sqrt((B[0] - A[0])**2+(B[1] - A[1])**2+ (B[2] - A[2])**2))\n",
    "    \n",
    "    pcd = np.delete(pcd, [indexA,indexB],0) \n",
    "    #pcd = np.delete(pcd, indexB,0)\n",
    "   \n",
    "    \n",
    "    #Calculating C probabilities\n",
    "    mid_AB = np.array([(A[0]+B[0])/2,(A[1]+B[1])/2,(A[2]+B[2])/2])\n",
    "    distances_mid_AB = np.sqrt((pcd[:,0] - mid_AB[0])**2+(pcd[:,1] - mid_AB[1])**2+ (pcd[:,2] - mid_AB[2])**2)\n",
    "    roundedAB = np.around(distances_mid_AB,1)\n",
    "    uniqueC, countsC = np.unique(roundedAB, return_counts = True)\n",
    "    probabilitiesC =1- countsC/distances_mid_AB.shape[0]\n",
    "    \n",
    "    probabilitiesC /= probabilitiesC.sum()\n",
    "    #plt.plot(uniqueC, probabilitiesC)\n",
    "    #plt.show()\n",
    "    choose_thresholded_value_C = np.random.choice(uniqueC, p=probabilitiesC)\n",
    "    C_candidate_indices = np.argwhere(roundedAB==choose_thresholded_value_C)\n",
    "    C_candidate_indices = C_candidate_indices.reshape(C_candidate_indices.shape[0])\n",
    "    indexC = np.random.choice(C_candidate_indices)\n",
    "    C = pcd[indexC]\n",
    "    #print(C)\n",
    "    \n",
    "    return A, B, C\n",
    "   "
   ]
  },
  {
   "cell_type": "code",
   "execution_count": 6,
   "metadata": {},
   "outputs": [],
   "source": [
    "def find_plane(pcd, iterations, threshold):\n",
    "    best_fit = 0############## убрать костыль\n",
    "    best_inliers_pts = np.zeros([1,3])\n",
    "    best_inlier_indices = None\n",
    "    inliers = None\n",
    "    best_model = list()\n",
    "    for i in range(iterations):\n",
    "        A, B, C = find_pts_plane(np.asarray(pcd.points))\n",
    "        p = plane(A,B,C)\n",
    "        R = p.calc_dist(np.asarray(pcd.points))\n",
    "        inliers = np.where(R<=threshold)[0]\n",
    "        inliers_len = inliers.shape[0] +3\n",
    "        inliers_pts = np.take(np.asarray(pcd.points),inliers,axis=0)\n",
    "        outliers = np.asarray(pcd.points).shape[0] - inliers_len\n",
    "        fit = inliers_len/outliers\n",
    "        if fit>best_fit:\n",
    "            best_fit = fit\n",
    "            print('Found better fintess: ',best_fit, 'at', i )\n",
    "            best_model = [A,B,C]\n",
    "            best_inliers_pts = inliers_pts\n",
    "            best_inlier_indices = inliers\n",
    "    return best_model, best_inliers_pts, best_inlier_indices"
   ]
  },
  {
   "cell_type": "markdown",
   "metadata": {},
   "source": [
    "## Find sphere"
   ]
  },
  {
   "cell_type": "code",
   "execution_count": 7,
   "metadata": {},
   "outputs": [],
   "source": [
    "class sphere:\n",
    "    def __init__(self, p1, p2, v1, v2):\n",
    "        \n",
    "        self.center = 0\n",
    "        self.radius = 0.001\n",
    "        unit_v1 = v1 / np.linalg.norm(v1)\n",
    "        unit_v2 = v2 / np.linalg.norm(v2)\n",
    "        dot_product = np.dot(unit_v1, unit_v2)\n",
    "        angle = np.degrees(np.arccos(dot_product))\n",
    "        self.accept_shape = True\n",
    "        a1 = np.dot(p2,v1)-np.dot(p1,v1)\n",
    "        a2 = np.dot(p2,v2)-np.dot(p1,v2)\n",
    "        b1 = np.dot(v2,v1)\n",
    "        b2 = np.dot(v2,v2)\n",
    "        c1 = np.dot(v1,v1)\n",
    "        c2 = np.dot(v1,v2)\n",
    "        A = np.array([[b1,-c1],[b2,-c2]])\n",
    "        #print(A)\n",
    "        B = np.array([-a1,-a2])\n",
    "        #print('A=', A,'B=', B)\n",
    "        try:\n",
    "            C = np.linalg.solve(A,B)\n",
    "            P = p1 + C[1]*v1\n",
    "            Q = p2 + C[0]*v2\n",
    "            self.center = (P+Q)/2\n",
    "            r1 = np.linalg.norm(self.center-p1)\n",
    "            r2 = np.linalg.norm(self.center-p2)\n",
    "            self.radius = (r1+r2)/2\n",
    "            self.accept_shape = True\n",
    "        except:\n",
    "            \n",
    "            self.accept_shape = False\n",
    "        #print(C)\n",
    "        if angle>=180.0:\n",
    "            self.accept_shape = False\n",
    "            \n",
    "        \n",
    "        \n",
    "        \n",
    "    def calc_dist(self, pcd):\n",
    "        #R = \n",
    "        R = np.linalg.norm(self.center-pcd, axis=-1)\n",
    "        #print(R)\n",
    "        #print(type(R))\n",
    "        return R\n",
    "    \n",
    "    "
   ]
  },
  {
   "cell_type": "code",
   "execution_count": 8,
   "metadata": {},
   "outputs": [],
   "source": [
    "def visualize_sphere(center,radius):\n",
    "    sphere_mesh = o3d.geometry.TriangleMesh.create_sphere(radius, resolution = 20)\n",
    "    \n",
    "    sphere_mesh = sphere_mesh.translate(center)\n",
    "    lineset = o3d.geometry.LineSet.create_from_triangle_mesh(sphere_mesh)\n",
    "    return lineset"
   ]
  },
  {
   "cell_type": "code",
   "execution_count": 9,
   "metadata": {},
   "outputs": [],
   "source": [
    "def find_pts_sphere(pcd):\n",
    "    o3d.geometry.PointCloud.estimate_normals(\n",
    "        pcd,\n",
    "        search_param=o3d.geometry.KDTreeSearchParamHybrid(radius=0.1,\n",
    "                                                          max_nn=30))\n",
    "    pcd1 = np.asarray(pcd.points)\n",
    "    indexA = np.random.randint(0,pcd1.shape[0])\n",
    "    A = pcd1[indexA]\n",
    "    #print(A)\n",
    "    distancesA = np.sqrt((pcd1[:,0] - A[0])**2+(pcd1[:,1] - A[1])**2+ (pcd1[:,2] - A[2])**2)\n",
    "    \n",
    "    #Calculating B probabilities\n",
    "    roundedA = np.around(distancesA,1)\n",
    "    uniqueB, countsB = np.unique(roundedA, return_counts = True)\n",
    "    probabilitiesB =1 - countsB/distancesA.shape[0]\n",
    "    probabilitiesB /= probabilitiesB.sum()\n",
    "    #print(probabilitiesB)\n",
    "    #plt.plot(uniqueB, probabilitiesB)\n",
    "    #plt.show()\n",
    "    choose_thresholded_value_B = np.random.choice(uniqueB, p=probabilitiesB)\n",
    "    B_candidate_indices = np.argwhere(roundedA==choose_thresholded_value_B)\n",
    "    B_candidate_indices = B_candidate_indices.reshape(B_candidate_indices.shape[0])\n",
    "    indexB = np.random.choice(B_candidate_indices)\n",
    "    B = pcd1[indexB]\n",
    "    v1 = pcd.normals[indexA]\n",
    "    v2 = pcd.normals[indexB]\n",
    "    \n",
    "    return A,B,v1,v2"
   ]
  },
  {
   "cell_type": "code",
   "execution_count": 10,
   "metadata": {},
   "outputs": [],
   "source": [
    "def find_sphere(pcd, iterations, threshold):\n",
    "    best_fit = 0\n",
    "    best_inliers_pts = np.zeros\n",
    "    best_inlier_indices = None\n",
    "    inliers = None\n",
    "    best_center = np.array((0,0,0))\n",
    "    best_radius = 0.001\n",
    "    angle = 0\n",
    "    for j in range(iterations):\n",
    "        #print(i)\n",
    "        for i in range(5):\n",
    "            p1,p2,v1,v2 = find_pts_sphere(pcd)\n",
    "            s = sphere(p1,p2,v1,v2)\n",
    "            \n",
    "            if s.accept_shape==True:\n",
    "                break\n",
    "            \n",
    "            print('Restart')\n",
    "        #print(s.radius)\n",
    "        R = s.calc_dist(np.asarray(pcd.points))\n",
    "        #print(R)\n",
    "        inliers = np.where((R<=s.radius+threshold) & (R>s.radius-threshold))[0] ################\n",
    "        #inliers = R[R-s.radius-threshold-threshold/2.<threshold/2.]\n",
    "        inliers_len = inliers.shape[0] +3\n",
    "        #print(inliers)\n",
    "        inliers_pts = np.take(np.asarray(pcd.points),inliers,axis=0)\n",
    "        #print(inliers)\n",
    "        outliers = np.asarray(pcd.points).shape[0] - inliers_len\n",
    "        #print(outliers)\n",
    "        fit = inliers_len/outliers\n",
    "        if fit>best_fit:\n",
    "            best_fit = fit\n",
    "            print('Found better fintess: ',best_fit, 'at', j )\n",
    "            best_center = s.center\n",
    "            best_radius = s.radius\n",
    "            best_inliers_pts = inliers_pts\n",
    "            best_inlier_indices = inliers\n",
    "    return best_center, best_radius, best_inliers_pts, best_inlier_indices"
   ]
  },
  {
   "cell_type": "markdown",
   "metadata": {},
   "source": [
    "## Main"
   ]
  },
  {
   "cell_type": "code",
   "execution_count": 15,
   "metadata": {},
   "outputs": [
    {
     "name": "stdout",
     "output_type": "stream",
     "text": [
      "RGBDImage of size \n",
      "Color image : 640x480, with 1 channels.\n",
      "Depth image : 640x480, with 1 channels.\n",
      "Use numpy.asarray to access buffer data.\n"
     ]
    },
    {
     "data": {
      "image/png": "[encoded data removed]",
      "text/plain": [
       "<Figure size 432x288 with 2 Axes>"
      ]
     },
     "metadata": {
      "needs_background": "light"
     },
     "output_type": "display_data"
    },
    {
     "name": "stdout",
     "output_type": "stream",
     "text": [
      "PointCloud with 251818 points.\n",
      "Found better fintess:  0.026986023711159417 at 0\n",
      "Found better fintess:  0.03558914970966097 at 2\n",
      "Found better fintess:  0.04416008757380747 at 5\n",
      "Found better fintess:  0.06704350921202054 at 7\n",
      "Found better fintess:  0.16165609502940836 at 10\n",
      "Found better fintess:  0.21942810101450327 at 13\n",
      "Found better fintess:  0.3731133310068051 at 23\n",
      "PointCloud with 183395 points.\n",
      "Found better fintess:  0.049957347898024265 at 0\n",
      "Found better fintess:  0.060313477448934165 at 2\n",
      "Found better fintess:  0.07305642183852225 at 11\n",
      "Found better fintess:  0.08110258964730571 at 12\n",
      "Found better fintess:  0.0942683596267214 at 42\n",
      "PointCloud with 167599 points.\n",
      "Found better fintess:  0.060249881385418314 at 0\n",
      "Found better fintess:  0.07029094717482375 at 5\n",
      "Found better fintess:  0.07129662181597367 at 7\n",
      "Found better fintess:  0.12658721356214753 at 8\n",
      "Found better fintess:  0.19029999147751483 at 18\n",
      "PointCloud with 140807 points.\n",
      "Found better fintess:  0.045679360741444866 at 0\n",
      "Found better fintess:  0.052447866058748786 at 3\n",
      "Found better fintess:  0.05540606378593112 at 4\n",
      "Found better fintess:  0.06798995775278172 at 8\n",
      "Found better fintess:  0.07016530495914877 at 11\n",
      "Found better fintess:  0.23511661973807707 at 26\n",
      "Found better fintess:  0.4319258852482356 at 28\n",
      "PointCloud with 98337 points.\n",
      "Found better fintess:  0.015710213187902826 at 0\n",
      "Found better fintess:  0.06984562159339404 at 1\n",
      "Found better fintess:  0.07366524729773993 at 7\n",
      "PointCloud with 91593 points.\n"
     ]
    }
   ],
   "source": [
    "#pcd = o3d.io.read_point_cloud(\"models/cube_test1.ply\")\n",
    "#pcd = o3d.io.read_point_cloud(\"models/mball.ply\")\n",
    "#pcd = o3d.io.read_point_cloud(\"models/fragment.ply\") \n",
    "#pcd = o3d.io.read_point_cloud(\"aivisum.ply\")\n",
    "#pcd = o3d.io.read_point_cloud(\"models/ballcube.ply\")\n",
    "\n",
    "color_raw = o3d.io.read_image(\"models/apple_1_1_12.png\")\n",
    "depth_raw = o3d.io.read_image(\"models/apple_1_1_12_depth.png\")\n",
    "rgbd_image = o3d.geometry.RGBDImage.create_from_color_and_depth(\n",
    "    color_raw, depth_raw)\n",
    "print(rgbd_image)\n",
    "plt.subplot(1, 2, 1)\n",
    "plt.title('grayscale image')\n",
    "plt.imshow(rgbd_image.color)\n",
    "plt.subplot(1, 2, 2)\n",
    "plt.title('depth image')\n",
    "plt.imshow(rgbd_image.depth)\n",
    "plt.show()\n",
    "pcd = o3d.geometry.PointCloud.create_from_rgbd_image(\n",
    "    rgbd_image,\n",
    "    o3d.camera.PinholeCameraIntrinsic(\n",
    "        o3d.camera.PinholeCameraIntrinsicParameters.PrimeSenseDefault))\n",
    "# Flip it, otherwise the pointcloud will be upside down\n",
    "\n",
    "#pcd.transform([[1, 0, 0, 0], [0, -1, 0, 0], [0, 0, -1, 0], [0, 0, 0, 1]])\n",
    "\n",
    "\n",
    "\n",
    "\n",
    "\n",
    "vis = o3d.visualization.Visualizer()\n",
    "vis.create_window(width = 800, height = 600)\n",
    "vis.add_geometry(pcd)\n",
    "\n",
    "print(pcd)\n",
    "models_list = []\n",
    "inliers_list = []\n",
    "\n",
    "##find planar \n",
    "\n",
    "for i in range(4):\n",
    "    model, inliers, inliers_indices = find_plane(pcd,50,0.009)\n",
    "    if inliers.shape[0]>15:\n",
    "        pts = color_pts(inliers)\n",
    "        vis.add_geometry(pts)\n",
    "        pcd.points = o3d.utility.Vector3dVector(np.delete(np.asarray(pcd.points), inliers_indices,0))\n",
    "        print(pcd)\n",
    "\n",
    "##find spherical\n",
    "\n",
    "for i in range(1):\n",
    "    center, radius, inliers, inliers_indices = find_sphere(pcd,50,0.009)\n",
    "    mesh = visualize_sphere(center,radius)\n",
    "    vis.add_geometry(mesh)\n",
    "    if type(inliers)!='NoneType':\n",
    "        if inliers.shape[0]>0:\n",
    "            \n",
    "            pts = color_pts(inliers)\n",
    "            vis.add_geometry(pts)\n",
    "            pcd.points = o3d.utility.Vector3dVector(np.delete(np.asarray(pcd.points), inliers_indices,0))\n",
    "            print(pcd)\n",
    "\n",
    "\n",
    "\n",
    "\n",
    "\n",
    "color = np.array([0,0,0])\n",
    "point_colors = np.tile(color, (np.asarray(pcd.points).shape[0],1))\n",
    "colors = o3d.utility.Vector3dVector(point_colors)\n",
    "#point_colors = np.tile(color, (points.shape[0],1))\n",
    "pcd.colors = o3d.utility.Vector3dVector(point_colors)\n",
    "vis.run()\n",
    "vis.destroy_window()"
   ]
  },
  {
   "cell_type": "code",
   "execution_count": null,
   "metadata": {},
   "outputs": [],
   "source": [
    "for i in range(7):\n",
    "    print (i)"
   ]
  },
  {
   "cell_type": "code",
   "execution_count": 80,
   "metadata": {},
   "outputs": [
    {
     "data": {
      "text/plain": [
       "array([[0., 0., 0.]])"
      ]
     },
     "execution_count": 80,
     "metadata": {},
     "output_type": "execute_result"
    }
   ],
   "source": [
    "np.zeros([1,3])"
   ]
  },
  {
   "cell_type": "code",
   "execution_count": null,
   "metadata": {},
   "outputs": [],
   "source": []
  }
 ],
 "metadata": {
  "kernelspec": {
   "display_name": "Python 3",
   "language": "python",
   "name": "python3"
  },
  "language_info": {
   "codemirror_mode": {
    "name": "ipython",
    "version": 3
   },
   "file_extension": ".py",
   "mimetype": "text/x-python",
   "name": "python",
   "nbconvert_exporter": "python",
   "pygments_lexer": "ipython3",
   "version": "3.8.3"
  }
 },
 "nbformat": 4,
 "nbformat_minor": 4
}
