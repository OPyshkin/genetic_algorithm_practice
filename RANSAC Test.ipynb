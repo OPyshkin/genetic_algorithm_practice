{
 "cells": [
  {
   "cell_type": "code",
   "execution_count": 1,
   "metadata": {},
   "outputs": [],
   "source": [
    "import numpy as np\n",
    "import scipy\n",
    "import matplotlib.pyplot as plt\n",
    "import math\n",
    "import sys"
   ]
  },
  {
   "cell_type": "code",
   "execution_count": 2,
   "metadata": {},
   "outputs": [
    {
     "data": {
      "text/plain": [
       "[<matplotlib.lines.Line2D at 0x14768c3dfd0>]"
      ]
     },
     "execution_count": 2,
     "metadata": {},
     "output_type": "execute_result"
    },
    {
     "data": {
      "image/png": "[encoded data removed]",
      "text/plain": [
       "<Figure size 432x288 with 1 Axes>"
      ]
     },
     "metadata": {
      "needs_background": "light"
     },
     "output_type": "display_data"
    }
   ],
   "source": [
    "np.random.seed(2)\n",
    "n_samples = 60\n",
    "outliers_ratio = 0.2\n",
    "n_inputs = 1\n",
    "n_outputs = 1\n",
    "x = 10*np.random.random((n_samples,n_inputs) )\n",
    "fit = np.random.normal(n_samples,n_inputs)\n",
    "y = np.dot(x,fit)\n",
    "x_noise = x + np.random.normal(size=x.shape)\n",
    "y_noise = y + np.random.normal(size=y.shape)\n",
    "n_outliers = int(outliers_ratio*n_samples)\n",
    "indices = np.arange(x_noise.shape[0])\n",
    "\n",
    "np.random.shuffle(indices)\n",
    "outlier_indices = indices[0:n_outliers]\n",
    "\n",
    "x_noise[outlier_indices] =10* np.random.random(size=(n_outliers,n_inputs))\n",
    "y_noise[outlier_indices] = y_noise[outlier_indices] +  10*np.random.normal(size=(n_outliers,n_outputs))\n",
    "plt.plot(x_noise,y_noise,marker='o', color='#0000cc', linestyle='None', alpha=0.7)"
   ]
  },
  {
   "cell_type": "code",
   "execution_count": 7,
   "metadata": {},
   "outputs": [],
   "source": [
    "def calc_model(points):\n",
    "    \n",
    "    k = (points[0][1] - points[1][1])/(points[0][0]-points[1][0]+ sys.float_info.epsilon)\n",
    "    b = points[1][1]-k*points[1][0]\n",
    "    return k, b"
   ]
  },
  {
   "cell_type": "code",
   "execution_count": 8,
   "metadata": {},
   "outputs": [],
   "source": [
    "def intercept_dist(x0,y0,k,b,points):\n",
    "    x = (x0+k*y0-k*b)/(1+k**2)\n",
    "    y = (k*x0 + (k**2)*y0 - (k**2)*b)/(1 + k**2) + b\n",
    "    f = (points[1][0]-points[0][0])*(y-points[0][1])-(points[1][1]-points[0][1])*(x-points[0][0])+ sys.float_info.epsilon\n",
    "    f1 = np.divide(f,abs(f))    \n",
    "    dist = np.sqrt((x-x0)**2+(y-y0)**2)\n",
    "    dist_sgn = dist*f1\n",
    "    #print(type(dist_sgn))\n",
    "    return dist_sgn"
   ]
  },
  {
   "cell_type": "code",
   "execution_count": 9,
   "metadata": {},
   "outputs": [],
   "source": [
    "def ransac_plot(x,y,k,b,thresh,perfectx,perfecty):\n",
    "    plt.figure(\"Ransac\", figsize=(5., 5.))\n",
    "    plt.plot(x,y,marker='o', color='#0000cc', linestyle='None', alpha=0.5)\n",
    "    #print(k*x+b) \n",
    "    plt.plot(x, k*x+b,color='#00cc00', linewidth=2)\n",
    "    bias = thresh/(np.arctan(1/(k+sys.float_info.epsilon)))\n",
    "    #print(bias)\n",
    "    plt.plot(x, k*x+(b-bias),color='#ffff00', linewidth=0.5)\n",
    "    plt.plot(x, k*x+(b+bias),color='#ffff00', linewidth=0.5)\n",
    "    plt.plot(perfectx, perfecty,color='#ff00ff', linewidth=2)\n",
    "    \n",
    "    plt.show()"
   ]
  },
  {
   "cell_type": "code",
   "execution_count": 10,
   "metadata": {
    "scrolled": true
   },
   "outputs": [
    {
     "name": "stdout",
     "output_type": "stream",
     "text": [
      "[[  8.50264999 479.62652139]\n",
      " [  5.63832825 262.97007929]]\n",
      "found better  14 75.63970189482262 -163.51138885155598 at  0  iteration\n",
      "[[  4.25079275 234.41427193]\n",
      " [  7.20010121 474.49106644]]\n",
      "[[  8.67806537 537.29383311]\n",
      " [  4.06178436  61.66563238]]\n",
      "[[  3.32783809 342.29752468]\n",
      " [  4.61374537 320.53103298]]\n",
      "[[  2.06618752 298.82981893]\n",
      " [  8.51672275 371.28254649]]\n",
      "[[  7.34685303 141.32121925]\n",
      " [  3.32255017 181.51562093]]\n",
      "[[  5.38055558 303.29042133]\n",
      " [  6.00502102 331.25136147]]\n",
      "[[  6.63245858 468.83352031]\n",
      " [  9.42962364 586.19113897]]\n",
      "[[  4.25079275 234.41427193]\n",
      " [  5.78913429 322.42960823]]\n",
      "[[  3.32783809 342.29752468]\n",
      " [  3.09437058 214.69200051]]\n",
      "[[  2.42337504 152.49161053]\n",
      " [  5.43698112 257.12554682]]\n",
      "[[-3.02284177e-01  4.79492899e+01]\n",
      " [ 6.00424977e+00  3.50288557e+02]]\n",
      "found better  22 47.94063893141272 62.440986431266595 at  11  iteration\n",
      "[[  8.50264999 479.62652139]\n",
      " [  4.56085189 297.62380194]]\n",
      "[[ -0.76186683  76.97372101]\n",
      " [  2.34506563 252.569787  ]]\n",
      "[[  9.73551311 577.000428  ]\n",
      " [  8.02737647 329.64052063]]\n",
      "[[  2.34506563 252.569787  ]\n",
      " [  4.25079275 234.41427193]]\n",
      "[[  3.38466769 123.71307809]\n",
      " [  4.10411389 221.89094752]]\n",
      "[[  4.56933993 265.6309804 ]\n",
      " [  3.02968223  96.01310531]]\n",
      "[[  4.25079275 234.41427193]\n",
      " [  4.75355068 264.87980484]]\n",
      "found better  24 60.596821934686936 -23.17025914021019 at  18  iteration\n",
      "[[  5.63832825 262.97007929]\n",
      " [  4.58966803 208.19088644]]\n",
      "[[  4.06178436  61.66563238]\n",
      " [  3.38466769 123.71307809]]\n",
      "[[-9.36395733e-02  8.03376053e+01]\n",
      " [ 4.24409364e+00  5.21158723e+02]]\n",
      "[[  4.58966803 208.19088644]\n",
      " [  4.24409364 521.1587226 ]]\n",
      "[[  3.50723536 593.55394145]\n",
      " [ 10.68633475 583.33543849]]\n",
      "[[  4.58966803 208.19088644]\n",
      " [  8.51672275 371.28254649]]\n",
      "[[-9.36395733e-02  8.03376053e+01]\n",
      " [ 4.75355068e+00  2.64879805e+02]]\n",
      "[[ 4.58966803e+00  2.08190886e+02]\n",
      " [-5.30259694e-02  1.79711011e+01]]\n",
      "[[  7.34685303 141.32121925]\n",
      " [  6.25759385 376.63550569]]\n",
      "[[  2.34506563 252.569787  ]\n",
      " [  7.17934818 419.4086865 ]]\n",
      "[[  3.29335618 283.67119365]\n",
      " [  5.63832825 262.97007929]]\n",
      "[[  4.06178436  61.66563238]\n",
      " [  3.6329464  297.945786  ]]\n",
      "[[  3.29335618 283.67119365]\n",
      " [  4.18977065 259.57560303]]\n",
      "[[  5.63832825 262.97007929]\n",
      " [  4.18977065 259.57560303]]\n",
      "[[  4.18977065 259.57560303]\n",
      " [  4.06178436  61.66563238]]\n",
      "[[  4.56933993 265.6309804 ]\n",
      " [  2.57967823 109.69854171]]\n",
      "[[ 5.38055558e+00  3.03290421e+02]\n",
      " [-2.30802361e-01  4.09427443e+01]]\n",
      "found better  25 46.75297488994499 51.73344131600312 at  35  iteration\n",
      "[[  0.6279497  162.0522315 ]\n",
      " [ -0.76186683  76.97372101]]\n",
      "[[  2.42337504 152.49161053]\n",
      " [ -0.37541699  14.96953841]]\n",
      "[[  4.06178436  61.66563238]\n",
      " [  7.20010121 474.49106644]]\n",
      "[[  7.20010121 474.49106644]\n",
      " [  3.29335618 283.67119365]]\n",
      "[[  1.89415985  63.08434159]\n",
      " [  3.36292973 148.68634656]]\n",
      "[[  7.20010121 474.49106644]\n",
      " [  3.32255017 181.51562093]]\n",
      "[[  2.65628195  49.85427147]\n",
      " [  3.32783809 342.29752468]]\n",
      "[[  0.6279497  162.0522315 ]\n",
      " [  5.63832825 262.97007929]]\n",
      "[[  9.73551311 577.000428  ]\n",
      " [  7.62195289 386.59116146]]\n",
      "[[  4.18977065 259.57560303]\n",
      " [  2.65628195  49.85427147]]\n",
      "[[  7.34685303 141.32121925]\n",
      " [ -0.30228418  47.94928985]]\n",
      "[[  2.65628195  49.85427147]\n",
      " [  3.47933584 246.34733411]]\n",
      "[[  2.57967823 109.69854171]\n",
      " [  4.61374537 320.53103298]]\n",
      "[[  8.67806537 537.29383311]\n",
      " [  2.18290134 136.33517997]]\n",
      "found better  27 61.73187486649571 1.5805875629798152 at  49  iteration\n",
      "[[  4.10411389 221.89094752]\n",
      " [  4.36869301 292.63218932]]\n",
      "[[  4.06178436  61.66563238]\n",
      " [  7.7892512  518.30740074]]\n",
      "[[  4.75355068 264.87980484]\n",
      " [  3.32783809 342.29752468]]\n",
      "[[ -2.00658441  37.97245175]\n",
      " [  4.75355068 264.87980484]]\n",
      "[[  3.02968223  96.01310531]\n",
      " [  6.00424977 350.2885566 ]]\n",
      "[[-5.30259694e-02  1.79711011e+01]\n",
      " [ 4.61374537e+00  3.20531033e+02]]\n",
      "[[  4.56933993 265.6309804 ]\n",
      " [  6.25759385 376.63550569]]\n",
      "[[ 3.29335618e+00  2.83671194e+02]\n",
      " [-5.30259694e-02  1.79711011e+01]]\n",
      "[[  2.18290134 136.33517997]\n",
      " [  5.38055558 303.29042133]]\n",
      "[[ -2.00658441  37.97245175]\n",
      " [ 10.68633475 583.33543849]]\n",
      "[[ 10.68633475 583.33543849]\n",
      " [  3.32783809 342.29752468]]\n",
      "[[  5.66007764 311.48235835]\n",
      " [ 10.68633475 583.33543849]]\n",
      "[[  3.02968223  96.01310531]\n",
      " [  3.38466769 123.71307809]]\n",
      "[[-5.30259694e-02  1.79711011e+01]\n",
      " [ 6.00502102e+00  3.31251361e+02]]\n",
      "[[  5.78913429 322.42960823]\n",
      " [  7.62195289 386.59116146]]\n",
      "[[  8.67806537 537.29383311]\n",
      " [  2.34506563 252.569787  ]]\n",
      "[[  4.58966803 208.19088644]\n",
      " [  9.73551311 577.000428  ]]\n",
      "[[  3.02968223  96.01310531]\n",
      " [  3.36292973 148.68634656]]\n",
      "[[  8.50264999 479.62652139]\n",
      " [  3.47933584 246.34733411]]\n",
      "[[ 5.38055558e+00  3.03290421e+02]\n",
      " [-5.30259694e-02  1.79711011e+01]]\n",
      "Best model: k =  61.73187486649571  b =  1.5805875629798152 close pts:  27\n"
     ]
    },
    {
     "data": {
      "image/png": "[encoded data removed]",
      "text/plain": [
       "<Figure size 360x360 with 1 Axes>"
      ]
     },
     "metadata": {
      "needs_background": "light"
     },
     "output_type": "display_data"
    }
   ],
   "source": [
    "np.random.seed(2)\n",
    "data = np.hstack( (x_noise,y_noise) )\n",
    "k_iterations =70\n",
    "n_inliners = 2\n",
    "t_thresh =0.75\n",
    "d_close_pts = int(x_noise.shape[0]*0.01)\n",
    "iterations = 0\n",
    "model_k = 0\n",
    "model_b = 0\n",
    "k = 0\n",
    "b = 0\n",
    "for iteration in range(k_iterations):\n",
    "    #print('iteration',i)\n",
    "    add_inliers_l = list()\n",
    "    add_inliers_r = list()\n",
    "    add_inliers = list()\n",
    "    all_indices = np.arange(x_noise.shape[0])\n",
    "    np.random.shuffle(all_indices)\n",
    "    indices_1 = all_indices[:n_inliners]\n",
    "    indices_2 = all_indices[n_inliners:]\n",
    "    maybeInLiers = data[indices_1,:]\n",
    "    otherPoints = data[indices_2,:]\n",
    "    k, b = calc_model(maybeInLiers)\n",
    "    dist = intercept_dist(otherPoints[:,0],otherPoints[:,1],k,b,maybeInLiers)\n",
    "    for i in dist:\n",
    "        if abs(i) < t_thresh:\n",
    "            add_inliers.append(otherPoints[np.where(dist == i)[0][0]])\n",
    "            if i<0:\n",
    "                add_inliers_l.append(otherPoints[np.where(dist == i)[0][0]])\n",
    "            elif i>0:\n",
    "                add_inliers_r.append(otherPoints[np.where(dist == i)[0][0]])\n",
    "    if len(add_inliers)>d_close_pts:\n",
    "        if len(add_inliers_l)/len(add_inliers)>0.3 and len(add_inliers_l)/len(add_inliers)<0.7:\n",
    "            d_close_pts = len(add_inliers)\n",
    "            model_k = k\n",
    "            model_b = b\n",
    "            print('found better ', d_close_pts, model_k, model_b, 'at ',iteration, ' iteration')\n",
    "    #ransac_plot(x_noise,y_noise,k,b,t_thresh)  \n",
    "print( 'Best model: k = ',model_k,' b = ',model_b, 'close pts: ',d_close_pts)\n",
    "ransac_plot(x_noise,y_noise,model_k,model_b,t_thresh,x,y) \n",
    "    "
   ]
  },
  {
   "cell_type": "code",
   "execution_count": null,
   "metadata": {},
   "outputs": [],
   "source": []
  },
  {
   "cell_type": "code",
   "execution_count": null,
   "metadata": {},
   "outputs": [],
   "source": []
  },
  {
   "cell_type": "code",
   "execution_count": null,
   "metadata": {},
   "outputs": [],
   "source": []
  }
 ],
 "metadata": {
  "kernelspec": {
   "display_name": "Python 3",
   "language": "python",
   "name": "python3"
  },
  "language_info": {
   "codemirror_mode": {
    "name": "ipython",
    "version": 3
   },
   "file_extension": ".py",
   "mimetype": "text/x-python",
   "name": "python",
   "nbconvert_exporter": "python",
   "pygments_lexer": "ipython3",
   "version": "3.8.3"
  }
 },
 "nbformat": 4,
 "nbformat_minor": 4
}
