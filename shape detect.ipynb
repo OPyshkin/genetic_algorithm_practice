{
 "cells": [
  {
   "cell_type": "markdown",
   "metadata": {},
   "source": [
    "# LIBS"
   ]
  },
  {
   "cell_type": "code",
   "execution_count": 33,
   "metadata": {},
   "outputs": [],
   "source": [
    "import cv2\n",
    "import matplotlib.pyplot as plt\n",
    "from matplotlib import axes\n",
    "import numpy as np\n",
    "from PIL import Image\n",
    "from scipy.ndimage import gaussian_filter, sobel, filters\n",
    "import argparse\n",
    "import imutils\n",
    "import os\n",
    "import sys"
   ]
  },
  {
   "cell_type": "markdown",
   "metadata": {},
   "source": [
    "# FIND CONTOURS"
   ]
  },
  {
   "cell_type": "code",
   "execution_count": 34,
   "metadata": {},
   "outputs": [],
   "source": [
    "def detect(frame):\n",
    "    \n",
    "    px_cm_x = 640/0.24 #Matrix size\n",
    "    px_cm_y = 480/0.18 #Matrix size\n",
    "    focal_length_cm = 0.42 #Camera focal length\n",
    "    px_size = 0.000119 \n",
    "    kernel = np.ones((5,5),np.uint8)\n",
    "    kernelDilation = np.ones((3,3),np.uint8)\n",
    "    #for file in os.listdir('Test/'):\n",
    "    #file = 'box1.jpg'\n",
    "    #print (file)\n",
    "    table = 52 # Camera - floor\n",
    "    box_h = 5 # Camera - box\n",
    "    dist_box_cm = table - box_h\n",
    "    #print( px_cm_x, px_cm_y)\n",
    "    image = frame\n",
    "    #Resize\n",
    "    scale_percent = 60 # percent of original size\n",
    "    width = int(image.shape[1] * scale_percent / 100)\n",
    "    height = int(image.shape[0] * scale_percent / 100)\n",
    "    dim = (width, height)\n",
    "    resized = cv2.resize(image, dim)\n",
    "    \n",
    "    #HSV Test\n",
    "    hsv = cv2.cvtColor(resized, cv2.COLOR_BGR2HSV)\n",
    "    \n",
    "    s_uint8 = hsv[:,:,1]\n",
    "    s_int32= np.int32(s_uint8) - 70\n",
    "    s_uint8 = np.uint8(s_int32.clip(min=0))\n",
    "    hsv[:,:,1] = 128\n",
    "    \n",
    "    v_uint8 = hsv[:,:,2]\n",
    "    v_int32= np.int32(v_uint8) - 128\n",
    "    v_uint8 = np.uint8(v_int32.clip(min=0))\n",
    "    hsv[:,:,2] = 128\n",
    "    \n",
    "    hsv2bgr =  cv2.cvtColor(hsv, cv2.COLOR_HSV2BGR)\n",
    "\n",
    "    ###\n",
    "    ratio = resized.shape[0] / float(resized.shape[0])\n",
    "    #ratio = hsv2bgr.shape[0] / float(hsv2bgr.shape[0])\n",
    "    #Grayscale\n",
    "    gray = cv2.cvtColor(resized, cv2.COLOR_BGR2GRAY)\n",
    "    #gray = cv2.cvtColor(hsv2bgr, cv2.COLOR_BGR2GRAY)\n",
    "    #Blur\n",
    "    #blurred = cv2.GaussianBlur(gray, (5, 5), 0)\n",
    "    blurred = cv2.bilateralFilter(gray,6,75,75)\n",
    "    #Canny\n",
    "    edges = cv2.Canny(blurred,0,80)\n",
    "    #Thresh\n",
    "    closing = cv2.morphologyEx(edges, cv2.MORPH_CLOSE, kernel)\n",
    "    thresh = cv2.dilate(closing,kernelDilation,iterations = 6)\n",
    "    #thresh  = cv2.adaptiveThreshold(closing,255,cv2.ADAPTIVE_THRESH_GAUSSIAN_C,\\\n",
    "    #            cv2.THRESH_BINARY,7,2)\n",
    "    try:\n",
    "        cnts = cv2.findContours(thresh, cv2.RETR_TREE,cv2.CHAIN_APPROX_SIMPLE)\n",
    "\n",
    "        cnts = imutils.grab_contours(cnts)\n",
    "        thresh = cv2.cvtColor(thresh,cv2.COLOR_GRAY2RGB)\n",
    "        rectAreas = list()\n",
    "        rectShapes = list()\n",
    "        for c in cnts:\n",
    "            M = cv2.moments(c)\n",
    "            c = c.astype(\"float\")\n",
    "            c *= ratio\n",
    "            c = c.astype(\"int\")\n",
    "            rectAreas.append(cv2.contourArea(c))\n",
    "            rectShapes.append(c)\n",
    "        #cv2.drawContours(resized, cnts, -1, (0, 255, 0), 2)\n",
    "        #maxIndex = rectAreas.index(max(rectAreas))\n",
    "        #del rectAreas[maxIndex]\n",
    "        #del rectShapes[maxIndex]\n",
    "        maxIndex = rectAreas.index(max(rectAreas))\n",
    "\n",
    "        hull = cv2.convexHull(rectShapes[maxIndex], returnPoints=True)\n",
    "        \n",
    "        box = cv2.approxPolyDP(hull, 0.09 * cv2.arcLength(hull,True), True)\n",
    "        \n",
    "        \n",
    "        #cv2.polylines(resized, [box],True,(0,0,255),4)\n",
    "        cv2.drawContours(resized, cnts, -1, (0, 255, 0), 2)\n",
    "        if len(box) == 4:\n",
    "            cv2.polylines(resized, [hull],True,(0,0,255),2)\n",
    "            #cv2.polylines(resized, [box],True,(255,0,0),4)\n",
    "            #print(box)\n",
    "            rect = cv2.minAreaRect(box)\n",
    "            box1 = cv2.boxPoints(rect) # cv2.boxPoints(rect) for OpenCV 3.x\n",
    "            box1 = np.int0(box1)\n",
    "            cv2.drawContours(resized,[box1],0,(0,255,0),2)\n",
    "            print(box1)\n",
    "            #print(box)\n",
    "            cv2.putText(resized, f'{box1[0]}', (box1[0][0],box1[0][1]), cv2.FONT_HERSHEY_SIMPLEX, 0.4, (255,0,255), 1,1)\n",
    "            cv2.putText(resized, f'{box1[1]}', (box1[1][0],box1[1][1]), cv2.FONT_HERSHEY_SIMPLEX, 0.4, (255,0,255), 1,1)\n",
    "            cv2.putText(resized, f'{box1[2]}', (box1[2][0],box1[2][1]), cv2.FONT_HERSHEY_SIMPLEX, 0.4, (255,0,255), 1,1)\n",
    "            cv2.putText(resized, f'{box1[3]}', (box1[3][0],box1[3][1]), cv2.FONT_HERSHEY_SIMPLEX, 0.4, (255,0,255), 1,1)\n",
    "            px_len1 = abs(np.sqrt((box1[0][0]- box1[1][0])**2+(box1[0][1]- box1[1][1])**2))\n",
    "            px_len2 = abs(np.sqrt((box1[1][0]- box1[2][0])**2+(box1[1][1]- box1[2][1])**2))\n",
    "            print('px_len:',px_len1,px_len2 )\n",
    "            size_x_cm_mtx = px_len1/px_cm_x\n",
    "            size_y_cm_mtx = px_len2/px_cm_y\n",
    "            H1 = (((dist_box_cm*size_x_cm_mtx)-(focal_length_cm*size_x_cm_mtx))/focal_length_cm)/(scale_percent/100)\n",
    "            H2 = ((dist_box_cm*size_y_cm_mtx-focal_length_cm*size_y_cm_mtx)/focal_length_cm)/(scale_percent/100)\n",
    "            print(H1, H2)\n",
    "            #cv2.putText(resized, f'{H1}, {H2}', (box[3][0][0],box[3][0][1]+20), cv2.FONT_HERSHEY_SIMPLEX, 0.4, (255,0,255), 1,1) \n",
    "            \n",
    "            \n",
    "            \n",
    "            \n",
    "        else:\n",
    "            pass\n",
    "            #print(\"Error\")\n",
    "        cv2.imwrite(f'Result/{file}',resized)\n",
    "        cv2.imwrite(f'Result/1{file}',thresh)\n",
    "        new_dims =(image.shape[0], image.shape[1])\n",
    "        #resized = cv2.resize(resized, new_dims)\n",
    "        return resized, thresh, blurred\n",
    "    except:\n",
    "        return resized, thresh, blurred"
   ]
  },
  {
   "cell_type": "code",
   "execution_count": 35,
   "metadata": {},
   "outputs": [],
   "source": [
    "def in_range(img,lower, upper, show = False):\n",
    "    lower = np.array(lower, dtype = \"uint8\")\n",
    "    upper = np.array(upper, dtype = \"uint8\")\n",
    "    img = cv2.cvtColor(img, cv2.COLOR_BGR2HSV)\n",
    "    mask =cv2.inRange(img, lower, upper)\n",
    "    if show:\n",
    "        cv2.imshow('mask', mask)\n",
    "    return mask\n",
    "    "
   ]
  },
  {
   "cell_type": "code",
   "execution_count": 36,
   "metadata": {},
   "outputs": [],
   "source": [
    "def color_mask(frame):\n",
    "    x = 310\n",
    "    y = 0\n",
    "    lower = [0,43,123]\n",
    "    upper = [48,255,255]\n",
    "    rectAreas = []\n",
    "    rectShapes = []\n",
    "    lower2 = [0,62,142]\n",
    "    upper2 = [45,255,255]\n",
    "    h,w = frame.shape[:2]\n",
    "    img = frame.copy()\n",
    "    mask = in_range(frame,lower2,upper2)\n",
    "    #cv2.imshow('mask1', mask)\n",
    "    mask2 = np.zeros(frame.shape,np.uint8)\n",
    "    mask2[y:y+h,x:x+w] = frame[y:y+h,x:x+w]\n",
    "    #cv2.imshow('mask2', mask2)\n",
    "    mask2 = in_range(mask2,lower,upper)\n",
    "    #cv2.imshow('mask3', mask2)\n",
    "    mask = mask+mask2\n",
    "    #cv2.imshow('mask4', mask)\n",
    "    kernel = np.ones((5,5),np.uint8)\n",
    "    mask = cv2.morphologyEx(mask,cv2.MORPH_OPEN, kernel)\n",
    "    mask = cv2.morphologyEx(mask,cv2.MORPH_CLOSE, kernel)\n",
    "    mask = cv2.erode(mask, kernel, iterations = 3)\n",
    "    mask = cv2.dilate(mask, kernel, iterations = 3)\n",
    "    cv2.imshow('mask', mask)\n",
    "    cnts = cv2.findContours(mask, cv2.RETR_TREE,cv2.CHAIN_APPROX_SIMPLE)\n",
    "\n",
    "    cnts = imutils.grab_contours(cnts)\n",
    "    #thresh = cv2.cvtColor(thresh,cv2.COLOR_GRAY2RGB)\n",
    "    #rectAreas = list()\n",
    "    #rectShapes = list()\n",
    "    for c in cnts:\n",
    "        #M = cv2.moments(c)\n",
    "        c = c.astype(\"float\")\n",
    "        c *= ratio\n",
    "        c = c.astype(\"int\")\n",
    "        rectAreas.append(cv2.contourArea(c))\n",
    "        rectShapes.append(c)\n",
    "    maxIndex = rectAreas.index(max(rectAreas))\n",
    "    #cv2.drawContours(img, rectShapes[maxIndex], -1, (0, 255, 0), 2)\n",
    "    rect = cv2.minAreaRect(rectShapes[maxIndex])\n",
    "    box1 = cv2.boxPoints(rect) # cv2.boxPoints(rect) for OpenCV 3.x\n",
    "    box1 = np.int0(box1)\n",
    "    cv2.drawContours(img,[box1],0,(0,255,0),2)\n",
    "    cv2.imshow('img', img)"
   ]
  },
  {
   "cell_type": "code",
   "execution_count": 42,
   "metadata": {},
   "outputs": [
    {
     "name": "stdout",
     "output_type": "stream",
     "text": [
      "box26.jpg\n"
     ]
    },
    {
     "ename": "NameError",
     "evalue": "name 'ratio' is not defined",
     "output_type": "error",
     "traceback": [
      "\u001b[1;31m---------------------------------------------------------------------------\u001b[0m",
      "\u001b[1;31mNameError\u001b[0m                                 Traceback (most recent call last)",
      "\u001b[1;32m<ipython-input-42-a7517382a40d>\u001b[0m in \u001b[0;36m<module>\u001b[1;34m\u001b[0m\n\u001b[0;32m      5\u001b[0m \u001b[0mprint\u001b[0m \u001b[1;33m(\u001b[0m\u001b[0mfile\u001b[0m\u001b[1;33m)\u001b[0m\u001b[1;33m\u001b[0m\u001b[1;33m\u001b[0m\u001b[0m\n\u001b[0;32m      6\u001b[0m \u001b[0mimage\u001b[0m \u001b[1;33m=\u001b[0m \u001b[0mcv2\u001b[0m\u001b[1;33m.\u001b[0m\u001b[0mimread\u001b[0m\u001b[1;33m(\u001b[0m\u001b[1;34mf'Test/{file}'\u001b[0m\u001b[1;33m)\u001b[0m\u001b[1;33m\u001b[0m\u001b[1;33m\u001b[0m\u001b[0m\n\u001b[1;32m----> 7\u001b[1;33m \u001b[0mcolor_mask\u001b[0m\u001b[1;33m(\u001b[0m\u001b[0mimage\u001b[0m\u001b[1;33m)\u001b[0m\u001b[1;33m\u001b[0m\u001b[1;33m\u001b[0m\u001b[0m\n\u001b[0m\u001b[0;32m      8\u001b[0m \u001b[0mdetect\u001b[0m\u001b[1;33m(\u001b[0m\u001b[0mimage\u001b[0m\u001b[1;33m)\u001b[0m\u001b[1;33m\u001b[0m\u001b[1;33m\u001b[0m\u001b[0m\n\u001b[0;32m      9\u001b[0m \u001b[0mcv2\u001b[0m\u001b[1;33m.\u001b[0m\u001b[0mwaitKey\u001b[0m\u001b[1;33m(\u001b[0m\u001b[1;33m)\u001b[0m\u001b[1;33m\u001b[0m\u001b[1;33m\u001b[0m\u001b[0m\n",
      "\u001b[1;32m<ipython-input-36-2e8d293dc51c>\u001b[0m in \u001b[0;36mcolor_mask\u001b[1;34m(frame)\u001b[0m\n\u001b[0;32m     34\u001b[0m         \u001b[1;31m#M = cv2.moments(c)\u001b[0m\u001b[1;33m\u001b[0m\u001b[1;33m\u001b[0m\u001b[1;33m\u001b[0m\u001b[0m\n\u001b[0;32m     35\u001b[0m         \u001b[0mc\u001b[0m \u001b[1;33m=\u001b[0m \u001b[0mc\u001b[0m\u001b[1;33m.\u001b[0m\u001b[0mastype\u001b[0m\u001b[1;33m(\u001b[0m\u001b[1;34m\"float\"\u001b[0m\u001b[1;33m)\u001b[0m\u001b[1;33m\u001b[0m\u001b[1;33m\u001b[0m\u001b[0m\n\u001b[1;32m---> 36\u001b[1;33m         \u001b[0mc\u001b[0m \u001b[1;33m*=\u001b[0m \u001b[0mratio\u001b[0m\u001b[1;33m\u001b[0m\u001b[1;33m\u001b[0m\u001b[0m\n\u001b[0m\u001b[0;32m     37\u001b[0m         \u001b[0mc\u001b[0m \u001b[1;33m=\u001b[0m \u001b[0mc\u001b[0m\u001b[1;33m.\u001b[0m\u001b[0mastype\u001b[0m\u001b[1;33m(\u001b[0m\u001b[1;34m\"int\"\u001b[0m\u001b[1;33m)\u001b[0m\u001b[1;33m\u001b[0m\u001b[1;33m\u001b[0m\u001b[0m\n\u001b[0;32m     38\u001b[0m         \u001b[0mrectAreas\u001b[0m\u001b[1;33m.\u001b[0m\u001b[0mappend\u001b[0m\u001b[1;33m(\u001b[0m\u001b[0mcv2\u001b[0m\u001b[1;33m.\u001b[0m\u001b[0mcontourArea\u001b[0m\u001b[1;33m(\u001b[0m\u001b[0mc\u001b[0m\u001b[1;33m)\u001b[0m\u001b[1;33m)\u001b[0m\u001b[1;33m\u001b[0m\u001b[1;33m\u001b[0m\u001b[0m\n",
      "\u001b[1;31mNameError\u001b[0m: name 'ratio' is not defined"
     ]
    }
   ],
   "source": [
    "\n",
    "\n",
    "#for file in os.listdir('Test/'):\n",
    "file = 'box26.jpg'\n",
    "\n",
    "\n",
    "print (file)\n",
    "image = cv2.imread(f'Test/{file}')\n",
    "color_mask(image)\n",
    "detect(image)\n",
    "cv2.waitKey()\n",
    "cv2.destroyAllWindows()\n",
    "#Resize\n",
    "    "
   ]
  },
  {
   "cell_type": "markdown",
   "metadata": {},
   "source": [
    "# Trying linear ransac\n"
   ]
  },
  {
   "cell_type": "code",
   "execution_count": 23,
   "metadata": {},
   "outputs": [],
   "source": [
    "def calc_model(points):\n",
    "    k = (points[0][1] - points[1][1])/(points[0][0]-points[1][0]+ sys.float_info.epsilon)\n",
    "    b = points[1][1]-k*points[1][0]\n",
    "    return k, b"
   ]
  },
  {
   "cell_type": "code",
   "execution_count": 24,
   "metadata": {},
   "outputs": [],
   "source": [
    "def intercept_dist(x0,y0,k,b,points):\n",
    "    x = (x0+k*y0-k*b)/(1+k**2)\n",
    "    y = (k*x0 + (k**2)*y0 - (k**2)*b)/(1 + k**2) + b\n",
    "    f = (points[1][0]-points[0][0])*(y-points[0][1])-(points[1][1]-points[0][1])*(x-points[0][0])+ sys.float_info.epsilon\n",
    "    f1 = np.divide(f,abs(f))    \n",
    "    dist = np.sqrt((x-x0)**2+(y-y0)**2)\n",
    "    dist_sgn = dist*f1\n",
    "    #print(type(dist_sgn))\n",
    "    return dist_sgn"
   ]
  },
  {
   "cell_type": "code",
   "execution_count": 25,
   "metadata": {},
   "outputs": [],
   "source": [
    "def ransac_plot(x,y,k,b,thresh,pts, closepts, newx, newy):\n",
    "    #plt.figure(\"Ransac\", figsize=(5., 5.))\n",
    "    plt.plot(newx,newy,marker='o', color='#ff00cc', linestyle='None', alpha=0.5)\n",
    "    #plt.plot(x,y,marker='o', color='#0000FF', linestyle='None', alpha=0.2)\n",
    "    #print(k*x+b) \n",
    "    plt.plot(x, k*x+b,color='#00cc00', linewidth=2)\n",
    "    bias = thresh/(np.arctan(1/(k+sys.float_info.epsilon)))\n",
    "    #print(bias)\n",
    "    plt.plot(x, k*x+(b-bias),color='#ffff00', linewidth=0.5)\n",
    "    plt.plot(x, k*x+(b+bias),color='#ffff00', linewidth=0.5)\n",
    "    plt.plot(pts[:,0],pts[:,1],marker='o', color='#FF0000', linestyle='None', alpha=1)\n",
    "    plt.plot(closepts[:,0],closepts[:,1],marker='o', color='#FFFF00', linestyle='None', alpha=0.4)\n",
    "    #plt.plot(perfectx, perfecty,color='#ff00ff', linewidth=2)\n",
    "    plt.ylim(200, 1000)\n",
    "    plt.show()"
   ]
  },
  {
   "cell_type": "code",
   "execution_count": 26,
   "metadata": {},
   "outputs": [],
   "source": [
    "def del_pts(delList, data):\n",
    "    listToDel = []\n",
    "    for i in delList:\n",
    "        listToDel.append(np.where((data[:,0] == i[0]) & (data[:,1] == i[1]))[0][0])\n",
    "    data1 = np.delete(data, listToDel,axis=0)\n",
    "    return data1"
   ]
  },
  {
   "cell_type": "code",
   "execution_count": 27,
   "metadata": {},
   "outputs": [
    {
     "ename": "NameError",
     "evalue": "name 'rectShapes' is not defined",
     "output_type": "error",
     "traceback": [
      "\u001b[1;31m---------------------------------------------------------------------------\u001b[0m",
      "\u001b[1;31mNameError\u001b[0m                                 Traceback (most recent call last)",
      "\u001b[1;32m<ipython-input-27-7dae51a175ab>\u001b[0m in \u001b[0;36m<module>\u001b[1;34m\u001b[0m\n\u001b[0;32m      1\u001b[0m \u001b[0mnp\u001b[0m\u001b[1;33m.\u001b[0m\u001b[0mrandom\u001b[0m\u001b[1;33m.\u001b[0m\u001b[0mseed\u001b[0m\u001b[1;33m(\u001b[0m\u001b[1;36m2\u001b[0m\u001b[1;33m)\u001b[0m\u001b[1;33m\u001b[0m\u001b[1;33m\u001b[0m\u001b[0m\n\u001b[1;32m----> 2\u001b[1;33m \u001b[0mdata\u001b[0m \u001b[1;33m=\u001b[0m \u001b[0mrectShapes\u001b[0m\u001b[1;33m[\u001b[0m\u001b[0mmaxIndex\u001b[0m\u001b[1;33m]\u001b[0m\u001b[1;33m.\u001b[0m\u001b[0mreshape\u001b[0m\u001b[1;33m(\u001b[0m\u001b[0mrectShapes\u001b[0m\u001b[1;33m[\u001b[0m\u001b[0mmaxIndex\u001b[0m\u001b[1;33m]\u001b[0m\u001b[1;33m.\u001b[0m\u001b[0mshape\u001b[0m\u001b[1;33m[\u001b[0m\u001b[1;36m0\u001b[0m\u001b[1;33m]\u001b[0m\u001b[1;33m,\u001b[0m\u001b[1;36m2\u001b[0m\u001b[1;33m)\u001b[0m\u001b[1;33m\u001b[0m\u001b[1;33m\u001b[0m\u001b[0m\n\u001b[0m\u001b[0;32m      3\u001b[0m \u001b[0mk_iterations\u001b[0m \u001b[1;33m=\u001b[0m\u001b[1;36m200\u001b[0m\u001b[1;33m\u001b[0m\u001b[1;33m\u001b[0m\u001b[0m\n\u001b[0;32m      4\u001b[0m \u001b[0mn_inliners\u001b[0m \u001b[1;33m=\u001b[0m \u001b[1;36m2\u001b[0m\u001b[1;33m\u001b[0m\u001b[1;33m\u001b[0m\u001b[0m\n\u001b[0;32m      5\u001b[0m \u001b[1;32mfor\u001b[0m \u001b[0mi\u001b[0m \u001b[1;32min\u001b[0m \u001b[0mrange\u001b[0m\u001b[1;33m(\u001b[0m\u001b[1;36m4\u001b[0m\u001b[1;33m)\u001b[0m\u001b[1;33m:\u001b[0m\u001b[1;33m\u001b[0m\u001b[1;33m\u001b[0m\u001b[0m\n",
      "\u001b[1;31mNameError\u001b[0m: name 'rectShapes' is not defined"
     ]
    }
   ],
   "source": [
    "np.random.seed(2)\n",
    "data = rectShapes[maxIndex].reshape(rectShapes[maxIndex].shape[0],2)\n",
    "k_iterations =200\n",
    "n_inliners = 2\n",
    "for i in range(4):\n",
    "    best_inliers = None\n",
    "    best_close_pts = None\n",
    "    t_thresh =15\n",
    "    d_close_pts = 0\n",
    "    iterations = 0\n",
    "    model_k = 0\n",
    "    model_b = 0\n",
    "    k = 0\n",
    "    b = 0\n",
    "    for iteration in range(k_iterations):\n",
    "        #print('iteration',i)\n",
    "        add_inliers_l = list()\n",
    "        add_inliers_r = list()\n",
    "        add_inliers = list()\n",
    "        all_indices = np.arange(data.shape[0])\n",
    "        np.random.shuffle(all_indices)\n",
    "        indices_1 = all_indices[:n_inliners]\n",
    "        indices_2 = all_indices[n_inliners:]\n",
    "        maybeInLiers = data[indices_1,:]\n",
    "        otherPoints = data[indices_2,:]\n",
    "        k, b = calc_model(maybeInLiers)\n",
    "        dist = intercept_dist(otherPoints[:,0],otherPoints[:,1],k,b,maybeInLiers)\n",
    "        for i in dist:\n",
    "            if abs(i) < t_thresh:\n",
    "                add_inliers.append(otherPoints[np.where(dist == i)[0][0]])\n",
    "                if i<0:\n",
    "                    add_inliers_l.append(otherPoints[np.where(dist == i)[0][0]])\n",
    "                elif i>0:\n",
    "                    add_inliers_r.append(otherPoints[np.where(dist == i)[0][0]])\n",
    "        if len(add_inliers)>d_close_pts:\n",
    "            if len(add_inliers_l)/len(add_inliers)>0.1 and len(add_inliers_l)/len(add_inliers)<0.9:\n",
    "                d_close_pts = len(add_inliers)\n",
    "                model_k = k\n",
    "                model_b = b\n",
    "                best_inliers = maybeInLiers\n",
    "                best_close_pts = np.concatenate((np.array(add_inliers),best_inliers)) \n",
    "\n",
    "                print('found better ', d_close_pts, model_k, model_b, 'at ',iteration, ' iteration')\n",
    "    print( 'Best model: k = ',model_k,' b = ',model_b, 'close pts: ',d_close_pts)\n",
    "    new_data = del_pts(best_close_pts, data)\n",
    "\n",
    "    print (data.shape, new_data.shape)\n",
    "    ransac_plot(data[:,0],data[:,1],model_k,model_b,t_thresh,best_inliers,best_close_pts,new_data[:,0],new_data[:,1]) \n",
    "    data = new_data\n"
   ]
  },
  {
   "cell_type": "markdown",
   "metadata": {},
   "source": [
    "# RANSAC"
   ]
  },
  {
   "cell_type": "code",
   "execution_count": 38,
   "metadata": {},
   "outputs": [],
   "source": [
    "def calc_model(points, E_max): #len(points) = 4 \n",
    "    AB = np.array([[points[1][0]-points[0][0]],[points[1][1]-points[0][1]]]) \n",
    "    AD = np.array([[points[3][0]-points[0][0]],[points[3][1]-points[0][1]]]) \n",
    "    CB = np.array([[points[1][0]-points[2][0]],[points[1][1]-points[2][1]]]) \n",
    "    CD = np.array([[points[3][0]-points[2][0]],[points[3][1]-points[2][1]]]) \n",
    "    \n",
    "    normABAD = abs(AB[0]*AD[0]+AB[1]*AD[1])\n",
    "    normCBCD = abs(CB[0]*CD[0]+CB[1]*CD[1])\n",
    "    \n",
    "    parallADCB = abs((AD[0]+ sys.float_info.epsilon)/(CB[0]+ sys.float_info.epsilon) + (AD[1]+ sys.float_info.epsilon)/(CB[1]+ sys.float_info.epsilon))\n",
    "    \n",
    "    E = normABAD + normCBCD + parallADCB\n",
    "    #print('normABAD',normABAD,'normCBCD',normCBCD,'parallADCB',parallADCB, 'E', E)\n",
    "    if E < E_max:\n",
    "        delim0 = points[0][0]-points[1][0]+sys.float_info.epsilon\n",
    "        delim1 = points[0][0]-points[3][0]+sys.float_info.epsilon\n",
    "        delim2 = points[2][0]-points[1][0]+sys.float_info.epsilon\n",
    "        delim3 = points[2][0]-points[3][0]+sys.float_info.epsilon\n",
    "\n",
    "        kAB = (points[0][1]-points[1][1])/delim0\n",
    "        bAB = points[1][1]-kAB*points[1][0]\n",
    "\n",
    "        kAD = (points[0][1]-points[3][1])/delim1\n",
    "        bAD = points[3][1]-kAD*points[3][0]\n",
    "\n",
    "        kCB = (points[2][1]-points[1][1])/delim2\n",
    "        bCB = points[1][1]-kCB*points[1][0]\n",
    "\n",
    "        kCD = (points[2][1]-points[3][1])/delim3\n",
    "        bCD = points[3][1]-kCD*points[3][0]  \n",
    "    else:\n",
    "        kAB = 0\n",
    "        kAD = 0\n",
    "        kCB = 0\n",
    "        kCD = 0\n",
    "        bAB = 0\n",
    "        bAD = 0\n",
    "        bCB = 0\n",
    "        bCD = 0\n",
    "    params ={ 'kAB':kAB,'kAD':kAD,'kCB':kCB,'kCD':kCD,'bAB':bAB,'bAD':bAD,'bCB':bCB,'bCD':bCD}\n",
    "    #print(params)\n",
    "    return params"
   ]
  },
  {
   "cell_type": "code",
   "execution_count": 39,
   "metadata": {},
   "outputs": [],
   "source": [
    "def intercept_dist(x0,y0,k,b,points):\n",
    "    x = (x0+k*y0-k*b)/(1+k**2)\n",
    "    y = (k*x0 + (k**2)*y0 - (k**2)*b)/(1 + k**2) + b\n",
    "    f = (points[1][0]-points[0][0])*(y-points[0][1])-(points[1][1]-points[0][1])*(x-points[0][0])+ sys.float_info.epsilon\n",
    "    f1 = np.divide(f,abs(f))    \n",
    "    dist = np.sqrt((x-x0)**2+(y-y0)**2)\n",
    "    dist_sgn = dist*f1\n",
    "    print(type(dist_sgngn))\n",
    "    return dist_sgn"
   ]
  },
  {
   "cell_type": "code",
   "execution_count": 40,
   "metadata": {},
   "outputs": [],
   "source": [
    "def ransac_plot(x,y,params,thresh, pts):\n",
    "    \n",
    "    bias1 = thresh/(np.arctan(1/(params['kAB']+sys.float_info.epsilon)))\n",
    "    #print(bias1.shape)\n",
    "    bias2 = thresh/(np.arctan(1/(params['kAD']+sys.float_info.epsilon)))\n",
    "    bias3 = thresh/(np.arctan(1/(params['kCB']+sys.float_info.epsilon)))\n",
    "    bias4 = thresh/(np.arctan(1/(params['kCD']+sys.float_info.epsilon)))\n",
    "    plt.plot(x,y,marker='o', color='#0000cc', linestyle='None', alpha=0.5)\n",
    "    \n",
    "    plt.plot(x, params['kAB']*x+params['bAB'],color='#00cc00', linewidth=2)\n",
    "    plt.plot(x, params['kAB']*x+(params['bAB']+bias1),color='#ffff00', linewidth=0.5)\n",
    "    plt.plot(x, params['kAB']*x+(params['bAB']-bias1),color='#ffff00', linewidth=0.5)\n",
    "    \n",
    "    plt.plot(x, params['kAD']*x+params['bAD'],color='#cc0000', linewidth=2)\n",
    "    plt.plot(x, params['kAD']*x+(params['bAD']+bias2),color='#ffff00', linewidth=0.5)\n",
    "    plt.plot(x, params['kAD']*x+(params['bAD']-bias2),color='#ffff00', linewidth=0.5)\n",
    "    \n",
    "    plt.plot(x, params['kCB']*x+params['bCB'],color='#0000cc', linewidth=2)\n",
    "    plt.plot(x, params['kCB']*x+(params['bCB']+bias3),color='#ffff00', linewidth=0.5)\n",
    "    plt.plot(x, params['kCB']*x+(params['bCB']-bias3),color='#ffff00', linewidth=0.5)\n",
    "    \n",
    "    plt.plot(x, params['kCD']*x+params['bCD'],color='#00cccc', linewidth=2)\n",
    "    plt.plot(x, params['kCD']*x+(params['bCD']+bias4),color='#ffff00', linewidth=0.5)\n",
    "    plt.plot(x, params['kCD']*x+(params['bCD']-bias4),color='#ffff00', linewidth=0.5)\n",
    "    \n",
    "    plt.plot(pts[:,0],pts[:,1],marker='o', color='#FF0000', linestyle='None', alpha=1)\n",
    "    plt.ylim(200, 1000)\n",
    "    plt.show()"
   ]
  },
  {
   "cell_type": "code",
   "execution_count": 41,
   "metadata": {},
   "outputs": [
    {
     "ename": "NameError",
     "evalue": "name 'rectShapes' is not defined",
     "output_type": "error",
     "traceback": [
      "\u001b[1;31m---------------------------------------------------------------------------\u001b[0m",
      "\u001b[1;31mNameError\u001b[0m                                 Traceback (most recent call last)",
      "\u001b[1;32m<ipython-input-41-077bab92ee8e>\u001b[0m in \u001b[0;36m<module>\u001b[1;34m\u001b[0m\n\u001b[0;32m      1\u001b[0m \u001b[1;31m#np.random.seed(2)\u001b[0m\u001b[1;33m\u001b[0m\u001b[1;33m\u001b[0m\u001b[1;33m\u001b[0m\u001b[0m\n\u001b[1;32m----> 2\u001b[1;33m \u001b[0mdata\u001b[0m \u001b[1;33m=\u001b[0m \u001b[0mrectShapes\u001b[0m\u001b[1;33m[\u001b[0m\u001b[0mmaxIndex\u001b[0m\u001b[1;33m]\u001b[0m\u001b[1;33m.\u001b[0m\u001b[0mreshape\u001b[0m\u001b[1;33m(\u001b[0m\u001b[0mrectShapes\u001b[0m\u001b[1;33m[\u001b[0m\u001b[0mmaxIndex\u001b[0m\u001b[1;33m]\u001b[0m\u001b[1;33m.\u001b[0m\u001b[0mshape\u001b[0m\u001b[1;33m[\u001b[0m\u001b[1;36m0\u001b[0m\u001b[1;33m]\u001b[0m\u001b[1;33m,\u001b[0m\u001b[1;36m2\u001b[0m\u001b[1;33m)\u001b[0m\u001b[1;33m\u001b[0m\u001b[1;33m\u001b[0m\u001b[0m\n\u001b[0m\u001b[0;32m      3\u001b[0m \u001b[0mE_max\u001b[0m \u001b[1;33m=\u001b[0m \u001b[1;36m100\u001b[0m\u001b[1;33m\u001b[0m\u001b[1;33m\u001b[0m\u001b[0m\n\u001b[0;32m      4\u001b[0m \u001b[0mk_iterations\u001b[0m \u001b[1;33m=\u001b[0m\u001b[1;36m200\u001b[0m\u001b[1;33m\u001b[0m\u001b[1;33m\u001b[0m\u001b[0m\n\u001b[0;32m      5\u001b[0m \u001b[0mn_inliers\u001b[0m \u001b[1;33m=\u001b[0m \u001b[1;36m4\u001b[0m\u001b[1;33m\u001b[0m\u001b[1;33m\u001b[0m\u001b[0m\n",
      "\u001b[1;31mNameError\u001b[0m: name 'rectShapes' is not defined"
     ]
    }
   ],
   "source": [
    "#np.random.seed(2)\n",
    "data = rectShapes[maxIndex].reshape(rectShapes[maxIndex].shape[0],2)\n",
    "E_max = 100\n",
    "k_iterations =200\n",
    "n_inliers = 4\n",
    "t_thresh =10\n",
    "d_close_pts = 0\n",
    "iterations = 0\n",
    "model_k = 0\n",
    "model_b = 0\n",
    "model_params = {'kAB':0,'kAD':0,'kCB':0,'kCD':0,'bAB':0,'bAD':0,'bCB':0,'bCD':0}\n",
    "params = {}\n",
    "for iteration in range(k_iterations):\n",
    "    #print('iteration',i)\n",
    "    add_inliers_l = list()\n",
    "    add_inliers_r = list()\n",
    "    add_inliers = list()\n",
    "    all_indices = np.arange(data.shape[0])\n",
    "    np.random.shuffle(all_indices)\n",
    "    indices_1 = all_indices[:n_inliers]\n",
    "    indices_2 = all_indices[n_inliers:]\n",
    "    maybeInLiers = data[indices_1,:]\n",
    "    otherPoints = data[indices_2,:]\n",
    "    params = calc_model(maybeInLiers, E_max)\n",
    "    dist0 = intercept_dist(otherPoints[:,0],otherPoints[:,1],params['kAB'],params['bAB'],maybeInLiers)\n",
    "    dist1 = intercept_dist(otherPoints[:,0],otherPoints[:,1],params['kAD'],params['bAD'],maybeInLiers)\n",
    "    dist2 = intercept_dist(otherPoints[:,0],otherPoints[:,1],params['kCB'],params['bCB'],maybeInLiers)\n",
    "    dist3 = intercept_dist(otherPoints[:,0],otherPoints[:,1],params['kCD'],params['bCD'],maybeInLiers)\n",
    "    #dist = np.concatenate((dist0, dist1,dist2,dist3))\n",
    "    #print(dist)\n",
    "    for i in dist0:\n",
    "        if abs(i) < t_thresh:\n",
    "            #print(otherPoints.shape)\n",
    "            add_inliers.append(otherPoints[np.where(dist0 == i)[0][0]])\n",
    "            if i<0:\n",
    "                add_inliers_l.append(otherPoints[np.where(dist0 == i)[0][0]])\n",
    "            elif i>0:\n",
    "                add_inliers_r.append(otherPoints[np.where(dist0 == i)[0][0]])\n",
    "    for i in dist1:\n",
    "        if abs(i) < t_thresh:\n",
    "            #print(otherPoints.shape)\n",
    "            add_inliers.append(otherPoints[np.where(dist1 == i)[0][0]])\n",
    "            if i<0:\n",
    "                add_inliers_l.append(otherPoints[np.where(dist1 == i)[0][0]])\n",
    "            elif i>0:\n",
    "                add_inliers_r.append(otherPoints[np.where(dist1 == i)[0][0]])\n",
    "    for i in dist2:\n",
    "        if abs(i) < t_thresh:\n",
    "            #print(otherPoints.shape)\n",
    "            add_inliers.append(otherPoints[np.where(dist2 == i)[0][0]])\n",
    "            if i<0:\n",
    "                add_inliers_l.append(otherPoints[np.where(dist2 == i)[0][0]])\n",
    "            elif i>0:\n",
    "                add_inliers_r.append(otherPoints[np.where(dist2 == i)[0][0]])\n",
    "    for i in dist3:\n",
    "        if abs(i) < t_thresh:\n",
    "            #print(otherPoints.shape)\n",
    "            add_inliers.append(otherPoints[np.where(dist3 == i)[0][0]])\n",
    "            if i<0:\n",
    "                add_inliers_l.append(otherPoints[np.where(dist3 == i)[0][0]])\n",
    "            elif i>0:\n",
    "                add_inliers_r.append(otherPoints[np.where(dist3 == i)[0][0]])\n",
    "    if len(add_inliers)>d_close_pts:\n",
    "        if len(add_inliers_l)/len(add_inliers)>0.3 and len(add_inliers_l)/len(add_inliers)<0.7:\n",
    "            d_close_pts = len(add_inliers)\n",
    "            model_params = params\n",
    "            best_inliers = maybeInLiers\n",
    "            print('found better ', d_close_pts, model_params, 'at ',iteration, ' iteration')\n",
    "    #ransac_plot(data[:,0],data[:,1],params,t_thresh,maybeInLiers)\n",
    "print( 'Best model: ',model_params)\n",
    "ransac_plot(data[:,0],data[:,1],model_params,t_thresh,best_inliers) \n",
    "    "
   ]
  },
  {
   "cell_type": "markdown",
   "metadata": {},
   "source": [
    "# HSV Test"
   ]
  },
  {
   "cell_type": "code",
   "execution_count": 4,
   "metadata": {},
   "outputs": [
    {
     "data": {
      "text/plain": [
       "-1"
      ]
     },
     "execution_count": 4,
     "metadata": {},
     "output_type": "execute_result"
    }
   ],
   "source": [
    "file = 'box19.jpg'\n",
    "image = cv2.imread(f'Test/{file}')\n",
    "scale_percent = 10 # percent of original size\n",
    "width = int(image.shape[1] * scale_percent / 100)\n",
    "height = int(image.shape[0] * scale_percent / 100)\n",
    "dim = (width, height)\n",
    "resized = cv2.resize(image, dim)\n",
    "#reshape = \n",
    "hsv = cv2.cvtColor(resized, cv2.COLOR_BGR2HSV)\n",
    "# define range of blue color in HSV\n",
    "'''\n",
    "s_uint8 = hsv[:,:,1]\n",
    "s_int32= np.int32(s_uint8) - 0\n",
    "s_uint8 = np.uint8(s_int32.clip(min=0))\n",
    "hsv[:,:,1] = s_uint8\n",
    "'''\n",
    "v_uint8 = hsv[:,:,2]\n",
    "v_int32= np.int32(v_uint8) - 70\n",
    "v_uint8 = np.uint8(v_int32.clip(min=0))\n",
    "hsv[:,:,2] = 128\n",
    "\n",
    "hsv2bgr =  cv2.cvtColor(hsv, cv2.COLOR_HSV2BGR)\n",
    "gray = cv2.cvtColor(hsv2bgr, cv2.COLOR_BGR2GRAY)\n",
    "blurred = cv2.bilateralFilter(gray,6,75,75)\n",
    "edges = cv2.Canny(blurred,0,70)\n",
    "\n",
    "cv2.imshow('HSV', hsv)\n",
    "cv2.imshow('RGB', resized)\n",
    "cv2.imshow('hsv2bgr', hsv2bgr)\n",
    "cv2.imshow('edges', edges)\n",
    "cv2.waitKey()\n"
   ]
  },
  {
   "cell_type": "code",
   "execution_count": 188,
   "metadata": {},
   "outputs": [
    {
     "data": {
      "text/plain": [
       "array([[154, 154, 153, ...,  96,  92,  89],\n",
       "       [154, 153, 154, ...,  96,  91,  89],\n",
       "       [151, 154, 151, ...,  93,  91,  93],\n",
       "       ...,\n",
       "       [ 48,  49,  48, ...,  14,  16,  15],\n",
       "       [ 50,  48,  46, ...,  16,  18,  12],\n",
       "       [ 46,  48,  45, ...,  13,  11,  15]], dtype=uint8)"
      ]
     },
     "execution_count": 188,
     "metadata": {},
     "output_type": "execute_result"
    }
   ],
   "source": [
    "hsv[:,:,2]"
   ]
  },
  {
   "cell_type": "code",
   "execution_count": 182,
   "metadata": {},
   "outputs": [],
   "source": [
    "v_uint8 = hsv[:,:,2]\n",
    "v_int32= np.int32(v_uint8) - 20\n",
    "v_uint8 = np.uint8(v_int32.clip(min=0))\n"
   ]
  },
  {
   "cell_type": "code",
   "execution_count": 22,
   "metadata": {},
   "outputs": [
    {
     "data": {
      "text/plain": [
       "-1"
      ]
     },
     "execution_count": 22,
     "metadata": {},
     "output_type": "execute_result"
    }
   ],
   "source": [
    "file = 'box13.jpg'\n",
    "image = cv2.imread(f'Test/{file}')\n",
    "scale_percent = 20 # percent of original size\n",
    "width = int(image.shape[1] * scale_percent / 100)\n",
    "height = int(image.shape[0] * scale_percent / 100)\n",
    "dim = (width, height)\n",
    "resized = cv2.resize(image, dim)\n",
    "#reshape = \n",
    "hsv = cv2.cvtColor(resized, cv2.COLOR_BGR2HSV)\n",
    "hsv2bgr = cv2.cvtColor(hsv, cv2.COLOR_HSV2BGR)\n",
    "cv2.imshow('HSV', hsv)\n",
    "cv2.imshow('RGB', resized)\n",
    "cv2.imshow('hsv2bgr', hsv2bgr)\n",
    "cv2.waitKey()"
   ]
  },
  {
   "cell_type": "code",
   "execution_count": 24,
   "metadata": {},
   "outputs": [
    {
     "data": {
      "text/plain": [
       "array([[[197, 203, 178],\n",
       "        [195, 202, 181],\n",
       "        [184, 193, 172],\n",
       "        ...,\n",
       "        [160, 171, 145],\n",
       "        [155, 170, 139],\n",
       "        [161, 178, 145]],\n",
       "\n",
       "       [[194, 205, 173],\n",
       "        [187, 199, 171],\n",
       "        [190, 202, 174],\n",
       "        ...,\n",
       "        [152, 162, 139],\n",
       "        [163, 176, 150],\n",
       "        [157, 170, 144]],\n",
       "\n",
       "       [[185, 199, 171],\n",
       "        [185, 198, 172],\n",
       "        [192, 202, 179],\n",
       "        ...,\n",
       "        [153, 161, 138],\n",
       "        [164, 177, 151],\n",
       "        [150, 160, 137]],\n",
       "\n",
       "       ...,\n",
       "\n",
       "       [[103, 111,  88],\n",
       "        [121, 135, 111],\n",
       "        [102, 118,  94],\n",
       "        ...,\n",
       "        [ 82,  92,  76],\n",
       "        [ 75,  85,  72],\n",
       "        [ 88,  95,  80]],\n",
       "\n",
       "       [[115, 125, 108],\n",
       "        [122, 133, 113],\n",
       "        [ 88, 102,  78],\n",
       "        ...,\n",
       "        [ 96, 100,  88],\n",
       "        [ 81,  88,  75],\n",
       "        [ 80,  86,  75]],\n",
       "\n",
       "       [[ 94, 115,  90],\n",
       "        [111, 129, 100],\n",
       "        [ 95, 115,  80],\n",
       "        ...,\n",
       "        [ 78,  86,  75],\n",
       "        [ 74,  79,  70],\n",
       "        [ 75,  79,  74]]], dtype=uint8)"
      ]
     },
     "execution_count": 24,
     "metadata": {},
     "output_type": "execute_result"
    }
   ],
   "source": [
    "resized"
   ]
  },
  {
   "cell_type": "code",
   "execution_count": 25,
   "metadata": {},
   "outputs": [
    {
     "data": {
      "text/plain": [
       "array([[[83, 31, 31],\n",
       "        [80, 27, 27],\n",
       "        [77, 28, 28],\n",
       "        ...,\n",
       "        [77, 39, 39],\n",
       "        [75, 47, 47],\n",
       "        [75, 47, 47]],\n",
       "\n",
       "       [[80, 40, 40],\n",
       "        [77, 36, 36],\n",
       "        [77, 35, 35],\n",
       "        ...,\n",
       "        [77, 36, 36],\n",
       "        [75, 38, 38],\n",
       "        [75, 39, 39]],\n",
       "\n",
       "       [[75, 36, 36],\n",
       "        [75, 33, 33],\n",
       "        [77, 29, 29],\n",
       "        ...,\n",
       "        [80, 36, 36],\n",
       "        [75, 37, 37],\n",
       "        [77, 37, 37]],\n",
       "\n",
       "       ...,\n",
       "\n",
       "       [[80, 53, 53],\n",
       "        [73, 45, 45],\n",
       "        [70, 52, 52],\n",
       "        ...,\n",
       "        [71, 44, 44],\n",
       "        [67, 39, 39],\n",
       "        [76, 40, 40]],\n",
       "\n",
       "       [[72, 35, 35],\n",
       "        [74, 38, 38],\n",
       "        [73, 60, 60],\n",
       "        ...,\n",
       "        [80, 31, 31],\n",
       "        [74, 38, 38],\n",
       "        [74, 33, 33]],\n",
       "\n",
       "       [[65, 55, 55],\n",
       "        [71, 57, 57],\n",
       "        [73, 78, 78],\n",
       "        ...,\n",
       "        [68, 33, 33],\n",
       "        [73, 29, 29],\n",
       "        [66, 16, 16]]], dtype=uint8)"
      ]
     },
     "execution_count": 25,
     "metadata": {},
     "output_type": "execute_result"
    }
   ],
   "source": [
    "hsv"
   ]
  },
  {
   "cell_type": "code",
   "execution_count": 26,
   "metadata": {},
   "outputs": [
    {
     "data": {
      "text/plain": [
       "array([[[30, 31, 27],\n",
       "        [26, 27, 24],\n",
       "        [26, 28, 24],\n",
       "        ...,\n",
       "        [36, 39, 33],\n",
       "        [43, 47, 38],\n",
       "        [43, 47, 38]],\n",
       "\n",
       "       [[37, 40, 33],\n",
       "        [33, 36, 30],\n",
       "        [32, 35, 30],\n",
       "        ...,\n",
       "        [34, 36, 31],\n",
       "        [35, 38, 32],\n",
       "        [36, 39, 33]],\n",
       "\n",
       "       [[33, 36, 30],\n",
       "        [30, 33, 28],\n",
       "        [27, 29, 25],\n",
       "        ...,\n",
       "        [34, 36, 31],\n",
       "        [34, 37, 32],\n",
       "        [35, 37, 32]],\n",
       "\n",
       "       ...,\n",
       "\n",
       "       [[49, 53, 41],\n",
       "        [40, 45, 37],\n",
       "        [44, 52, 41],\n",
       "        ...,\n",
       "        [39, 44, 36],\n",
       "        [34, 39, 33],\n",
       "        [37, 40, 34]],\n",
       "\n",
       "       [[32, 35, 30],\n",
       "        [34, 38, 32],\n",
       "        [52, 60, 45],\n",
       "        ...,\n",
       "        [30, 31, 27],\n",
       "        [35, 38, 32],\n",
       "        [31, 33, 29]],\n",
       "\n",
       "       [[45, 55, 43],\n",
       "        [48, 57, 44],\n",
       "        [64, 78, 54],\n",
       "        ...,\n",
       "        [30, 33, 29],\n",
       "        [27, 29, 26],\n",
       "        [15, 16, 15]]], dtype=uint8)"
      ]
     },
     "execution_count": 26,
     "metadata": {},
     "output_type": "execute_result"
    }
   ],
   "source": [
    "hsv2bgr"
   ]
  },
  {
   "cell_type": "code",
   "execution_count": 75,
   "metadata": {},
   "outputs": [
    {
     "data": {
      "text/plain": [
       "(576, 432)"
      ]
     },
     "execution_count": 75,
     "metadata": {},
     "output_type": "execute_result"
    }
   ],
   "source": [
    "dim"
   ]
  },
  {
   "cell_type": "code",
   "execution_count": 77,
   "metadata": {},
   "outputs": [],
   "source": [
    "new_dims =(image.shape[0], image.shape[1])\n"
   ]
  },
  {
   "cell_type": "code",
   "execution_count": 78,
   "metadata": {},
   "outputs": [
    {
     "data": {
      "text/plain": [
       "(1440, 1920)"
      ]
     },
     "execution_count": 78,
     "metadata": {},
     "output_type": "execute_result"
    }
   ],
   "source": [
    "new_dims"
   ]
  },
  {
   "cell_type": "code",
   "execution_count": null,
   "metadata": {},
   "outputs": [],
   "source": []
  }
 ],
 "metadata": {
  "kernelspec": {
   "display_name": "Python 3",
   "language": "python",
   "name": "python3"
  },
  "language_info": {
   "codemirror_mode": {
    "name": "ipython",
    "version": 3
   },
   "file_extension": ".py",
   "mimetype": "text/x-python",
   "name": "python",
   "nbconvert_exporter": "python",
   "pygments_lexer": "ipython3",
   "version": "3.8.3"
  }
 },
 "nbformat": 4,
 "nbformat_minor": 4
}
